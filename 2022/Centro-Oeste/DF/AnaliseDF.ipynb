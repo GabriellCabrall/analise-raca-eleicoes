{
 "cells": [
  {
   "cell_type": "code",
   "execution_count": 31,
   "metadata": {},
   "outputs": [
    {
     "name": "stdout",
     "output_type": "stream",
     "text": [
      "[17 23 25 26 29]\n"
     ]
    }
   ],
   "source": [
    "import pandas as pd\n",
    "import plotly.express as px\n",
    "\n",
    "tabela = pd.read_csv('relatorioDF.csv', sep=';')\n",
    "tabela.columns = tabela.columns.str.replace('\"', '')\n",
    "tabela[\"Código Classificador\"] = tabela[\"Código Classificador\"].str.replace('\"', '')\n",
    "tabela[\"Código Classificador\"] = tabela[\"Código Classificador\"].astype(int)\n",
    "tabela = tabela.rename(columns={\" Código da Cor\": \"Código da Cor\"})\n",
    "# print(tabela.columns)\n",
    "tabela[\"Código da Cor\"] = tabela[\"Código da Cor\"].str.replace('\"', '')\n",
    "tabela[\"Código da Cor\"] = tabela[\"Código da Cor\"].astype(int)\n",
    "print(tabela['Código Classificador'].unique())\n",
    "# df_9 = tabela.loc[tabela['Código Classificador'] == 27]\n",
    "# display(df_9)\n",
    "# display(tabela)\n",
    "# print(tabela.info)\n",
    "# 20, 22, 27"
   ]
  },
  {
   "cell_type": "code",
   "execution_count": 32,
   "metadata": {},
   "outputs": [],
   "source": [
    "def get_incidencia_cor(codigo):\n",
    "    tabela_codigo = tabela[tabela['Código Classificador'] == codigo]\n",
    "    incidencia_cor = tabela_codigo[' Cor'].value_counts(normalize=True) * 100\n",
    "    incidencia_cor = pd.DataFrame(incidencia_cor)\n",
    "    df_incidencia_cor = incidencia_cor.reset_index()\n",
    "    df_incidencia_cor.columns = ['Cor', 'Incidência']\n",
    "    df_incidencia_cor['Incidência'] = df_incidencia_cor['Incidência']\n",
    "    \n",
    "    return {'df': df_incidencia_cor, 'tabela': tabela_codigo}\n",
    "\n",
    "# Agora você pode chamar a função para cada código desejado e armazenar os resultados em variáveis separadas\n",
    "resultado_17 = get_incidencia_cor(17)\n",
    "df_incidencia_cor_17 = resultado_17['df']\n",
    "tabela_codigo_17 = resultado_17['tabela']\n",
    "\n",
    "resultado_25 = get_incidencia_cor(25)\n",
    "df_incidencia_cor_25 = resultado_25['df']\n",
    "tabela_codigo_25 = resultado_25['tabela']\n",
    "\n",
    "resultado_29 = get_incidencia_cor(29)\n",
    "df_incidencia_cor_29 = resultado_29['df']\n",
    "tabela_codigo_29 = resultado_29['tabela']\n",
    "\n"
   ]
  },
  {
   "cell_type": "code",
   "execution_count": 37,
   "metadata": {},
   "outputs": [],
   "source": [
    "# Lista de códigos\n",
    "codigos = [17, 25, 29]\n",
    "\n",
    "# Lista para armazenar os dataframes\n",
    "dfs = []\n",
    "\n",
    "# Gerar e armazenar os dataframes\n",
    "for codigo in codigos:\n",
    "    resultado = get_incidencia_cor(codigo)\n",
    "    df = resultado['df']\n",
    "    dfs.append(df)"
   ]
  },
  {
   "cell_type": "code",
   "execution_count": 38,
   "metadata": {},
   "outputs": [
    {
     "data": {
      "text/html": [
       "<div>\n",
       "<style scoped>\n",
       "    .dataframe tbody tr th:only-of-type {\n",
       "        vertical-align: middle;\n",
       "    }\n",
       "\n",
       "    .dataframe tbody tr th {\n",
       "        vertical-align: top;\n",
       "    }\n",
       "\n",
       "    .dataframe thead th {\n",
       "        text-align: right;\n",
       "    }\n",
       "</style>\n",
       "<table border=\"1\" class=\"dataframe\">\n",
       "  <thead>\n",
       "    <tr style=\"text-align: right;\">\n",
       "      <th></th>\n",
       "      <th>Cor</th>\n",
       "      <th>Incidência</th>\n",
       "    </tr>\n",
       "  </thead>\n",
       "  <tbody>\n",
       "    <tr>\n",
       "      <th>0</th>\n",
       "      <td>\"Branco / Blanco / White\"</td>\n",
       "      <td>77.405858</td>\n",
       "    </tr>\n",
       "    <tr>\n",
       "      <th>1</th>\n",
       "      <td>\"Preto / Negro / Black\"</td>\n",
       "      <td>14.644351</td>\n",
       "    </tr>\n",
       "    <tr>\n",
       "      <th>2</th>\n",
       "      <td>\"Pardo / “Moreno” / Brown\"</td>\n",
       "      <td>6.694561</td>\n",
       "    </tr>\n",
       "    <tr>\n",
       "      <th>3</th>\n",
       "      <td>\"Indígena / Indigena / Indigenous\"</td>\n",
       "      <td>0.836820</td>\n",
       "    </tr>\n",
       "    <tr>\n",
       "      <th>4</th>\n",
       "      <td>\"Amarelo / Amarillo / Yellow\"</td>\n",
       "      <td>0.418410</td>\n",
       "    </tr>\n",
       "    <tr>\n",
       "      <th>5</th>\n",
       "      <td>\"Branco / Blanco / White\"</td>\n",
       "      <td>73.640167</td>\n",
       "    </tr>\n",
       "    <tr>\n",
       "      <th>6</th>\n",
       "      <td>\"Preto / Negro / Black\"</td>\n",
       "      <td>12.970711</td>\n",
       "    </tr>\n",
       "    <tr>\n",
       "      <th>7</th>\n",
       "      <td>\"Pardo / “Moreno” / Brown\"</td>\n",
       "      <td>12.970711</td>\n",
       "    </tr>\n",
       "    <tr>\n",
       "      <th>8</th>\n",
       "      <td>\"Amarelo / Amarillo / Yellow\"</td>\n",
       "      <td>0.418410</td>\n",
       "    </tr>\n",
       "    <tr>\n",
       "      <th>9</th>\n",
       "      <td>\"Branco / Blanco / White\"</td>\n",
       "      <td>81.589958</td>\n",
       "    </tr>\n",
       "    <tr>\n",
       "      <th>10</th>\n",
       "      <td>\"Preto / Negro / Black\"</td>\n",
       "      <td>11.715481</td>\n",
       "    </tr>\n",
       "    <tr>\n",
       "      <th>11</th>\n",
       "      <td>\"Pardo / “Moreno” / Brown\"</td>\n",
       "      <td>5.857741</td>\n",
       "    </tr>\n",
       "    <tr>\n",
       "      <th>12</th>\n",
       "      <td>\"Amarelo / Amarillo / Yellow\"</td>\n",
       "      <td>0.836820</td>\n",
       "    </tr>\n",
       "  </tbody>\n",
       "</table>\n",
       "</div>"
      ],
      "text/plain": [
       "                                    Cor  Incidência\n",
       "0             \"Branco / Blanco / White\"   77.405858\n",
       "1               \"Preto / Negro / Black\"   14.644351\n",
       "2            \"Pardo / “Moreno” / Brown\"    6.694561\n",
       "3    \"Indígena / Indigena / Indigenous\"    0.836820\n",
       "4         \"Amarelo / Amarillo / Yellow\"    0.418410\n",
       "5             \"Branco / Blanco / White\"   73.640167\n",
       "6               \"Preto / Negro / Black\"   12.970711\n",
       "7            \"Pardo / “Moreno” / Brown\"   12.970711\n",
       "8         \"Amarelo / Amarillo / Yellow\"    0.418410\n",
       "9             \"Branco / Blanco / White\"   81.589958\n",
       "10              \"Preto / Negro / Black\"   11.715481\n",
       "11           \"Pardo / “Moreno” / Brown\"    5.857741\n",
       "12        \"Amarelo / Amarillo / Yellow\"    0.836820"
      ]
     },
     "metadata": {},
     "output_type": "display_data"
    }
   ],
   "source": [
    "df_concatenado = pd.concat(dfs)\n",
    "df_concatenado = df_concatenado.reset_index().rename(columns={'index': 'cor'})\n",
    "# df_concatenado.columns = ['Cor', 'Incidência']\n",
    "df_concatenado = df_concatenado.drop('cor', axis=1)\n",
    "\n",
    "display(df_concatenado)"
   ]
  },
  {
   "cell_type": "code",
   "execution_count": 39,
   "metadata": {},
   "outputs": [
    {
     "name": "stdout",
     "output_type": "stream",
     "text": [
      "Cor\n",
      " \"Amarelo / Amarillo / Yellow\"          0.558%\n",
      " \"Branco / Blanco / White\"             77.545%\n",
      " \"Indígena / Indigena / Indigenous\"     0.837%\n",
      " \"Pardo / “Moreno” / Brown\"             8.508%\n",
      " \"Preto / Negro / Black\"               13.110%\n",
      "Name: Incidência, dtype: object\n"
     ]
    }
   ],
   "source": [
    "media_por_cor = df_concatenado.groupby('Cor')['Incidência'].mean()\n",
    "media_por_cor = media_por_cor.apply('{:.3f}%'.format)\n",
    "\n",
    "print(media_por_cor)"
   ]
  },
  {
   "cell_type": "code",
   "execution_count": 40,
   "metadata": {},
   "outputs": [],
   "source": [
    "import openpyxl\n",
    "from openpyxl import load_workbook\n",
    "\n",
    "df_concatenados = pd.concat([tabela_codigo_17, tabela_codigo_25, tabela_codigo_29])\n",
    "df_concatenados[' Cor'] = df_concatenados[' Cor'].replace(' \"Branco / Blanco / White\"', 'Branco')\n",
    "df_concatenados[' Cor'] = df_concatenados[' Cor'].replace(' \"Amarelo / Amarillo / Yellow\"', 'Amarelo')\n",
    "df_concatenados[' Cor'] = df_concatenados[' Cor'].replace(' \"Pardo / “Moreno” / Brown\"', 'Pardo')\n",
    "df_concatenados[' Cor'] = df_concatenados[' Cor'].replace(' \"Preto / Negro / Black\"', 'Preto')\n",
    "\n",
    "valores_cor = df_concatenados[' Cor'].unique\n",
    "# print(valores_cor)\n",
    "\n",
    "nome_arquivo = 'dadosDF.xlsx'\n",
    "df_concatenados.to_excel(nome_arquivo, sheet_name='Heteroclassificação', index=False)"
   ]
  }
 ],
 "metadata": {
  "kernelspec": {
   "display_name": "Python 3 (ipykernel)",
   "language": "python",
   "name": "python3"
  },
  "language_info": {
   "codemirror_mode": {
    "name": "ipython",
    "version": 3
   },
   "file_extension": ".py",
   "mimetype": "text/x-python",
   "name": "python",
   "nbconvert_exporter": "python",
   "pygments_lexer": "ipython3",
   "version": "3.11.5"
  }
 },
 "nbformat": 4,
 "nbformat_minor": 2
}
