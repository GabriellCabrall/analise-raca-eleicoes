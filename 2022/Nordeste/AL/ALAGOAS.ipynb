{
 "cells": [
  {
   "cell_type": "code",
   "execution_count": 10,
   "id": "0904e73f",
   "metadata": {},
   "outputs": [
    {
     "data": {
      "text/plain": [
       "0      ETELVINA FRANCISCA DE LIMA NETA\n",
       "1       PAULO SURUAGY DO AMARAL DANTAS\n",
       "2          BENEDITA FERNANDES DA SILVA\n",
       "3                  LUIZ GOMES DA ROCHA\n",
       "4         GUILHERME RESSURREI��O LOPES\n",
       "                    ...               \n",
       "498               HEMERSON CASADO GAMA\n",
       "499    VILMA CRISTINA CORREIA DA SILVA\n",
       "500      GALBA NOVAIS DE CASTRO J�NIOR\n",
       "501     MARCELLA SOARES DIAS FERNANDES\n",
       "502                  LAISE LIMA VIEIRA\n",
       "Name: NM_CANDIDATO, Length: 503, dtype: object"
      ]
     },
     "metadata": {},
     "output_type": "display_data"
    }
   ],
   "source": [
    "import pandas as pd\n",
    "\n",
    "tabela = pd.read_csv('ALAGOAS.csv', sep=';')\n",
    "\n",
    "# display(tabela['NM_CANDIDATO'])\n",
    "\n",
    "# incidencia = tabela['DS_COR_RACA'].value_counts(normalize=True)\n",
    "# print(incidencia.apply(lambda x: f\"{(x*100):.3f}%\"))"
   ]
  }
 ],
 "metadata": {
  "kernelspec": {
   "display_name": "Python 3 (ipykernel)",
   "language": "python",
   "name": "python3"
  },
  "language_info": {
   "codemirror_mode": {
    "name": "ipython",
    "version": 3
   },
   "file_extension": ".py",
   "mimetype": "text/x-python",
   "name": "python",
   "nbconvert_exporter": "python",
   "pygments_lexer": "ipython3",
   "version": "3.10.11"
  }
 },
 "nbformat": 4,
 "nbformat_minor": 5
}
