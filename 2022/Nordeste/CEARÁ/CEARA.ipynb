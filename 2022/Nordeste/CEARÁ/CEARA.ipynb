{
 "cells": [
  {
   "cell_type": "code",
   "execution_count": 1,
   "metadata": {},
   "outputs": [
    {
     "data": {
      "text/plain": [
       "0              MARIA GORETE SILVA NASCIMENTO\n",
       "1       FRANCISCO DAVID VASCONCELOS CARNEIRO\n",
       "2                          CARLOS MATOS LIMA\n",
       "3        FRANCISCO CLAUDIO SANTOS DE ANDRADE\n",
       "4              FELIPE AGUIAR FONSECA DA MOTA\n",
       "                        ...                 \n",
       "1013        MARCOS MARCEL RODRIGUES SOBREIRA\n",
       "1014           ELIZABETH OLIVEIRA LIMA SILVA\n",
       "1015                 ELIAQUIM GONZAGA LANDIM\n",
       "1016                     RICARDO RIBEIRO PAZ\n",
       "1017                      MORONI BING TORGAN\n",
       "Name: NM_CANDIDATO, Length: 1018, dtype: object"
      ]
     },
     "metadata": {},
     "output_type": "display_data"
    },
    {
     "name": "stdout",
     "output_type": "stream",
     "text": [
      "PARDA             50.688%\n",
      "BRANCA            39.784%\n",
      "PRETA              8.546%\n",
      "IND�GENA           0.688%\n",
      "AMARELA            0.196%\n",
      "N�O DIVULG�VEL     0.098%\n",
      "Name: DS_COR_RACA, dtype: object\n"
     ]
    }
   ],
   "source": [
    "import pandas as pd\n",
    "\n",
    "tabela = pd.read_csv('CEARA.csv', sep=';')\n",
    "\n",
    "# display(tabela)\n",
    "display(tabela['NM_CANDIDATO'])\n",
    "\n",
    "incidencia = tabela['DS_COR_RACA'].value_counts(normalize=True)\n",
    "print(incidencia.apply(lambda x: f\"{(x*100):.3f}%\"))"
   ]
  }
 ],
 "metadata": {
  "kernelspec": {
   "display_name": "Python 3",
   "language": "python",
   "name": "python3"
  },
  "language_info": {
   "codemirror_mode": {
    "name": "ipython",
    "version": 3
   },
   "file_extension": ".py",
   "mimetype": "text/x-python",
   "name": "python",
   "nbconvert_exporter": "python",
   "pygments_lexer": "ipython3",
   "version": "3.10.11"
  },
  "orig_nbformat": 4
 },
 "nbformat": 4,
 "nbformat_minor": 2
}
