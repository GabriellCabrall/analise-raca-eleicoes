{
 "cells": [
  {
   "cell_type": "code",
   "execution_count": 1,
   "metadata": {},
   "outputs": [
    {
     "data": {
      "text/plain": [
       "0                    MORGANA MACENA DE SANTANA\n",
       "1                            JOELNA FIGUEIREDO\n",
       "2              GILBERTO TOLENTINO LEITE JUNIOR\n",
       "3                       EULLER DE ASSIS CHAVES\n",
       "4       AMANDA VIRG�NIA ALBUQUERQUE DOS SANTOS\n",
       "                        ...                   \n",
       "751                 ALDENOU MOREIRA DE MENEZES\n",
       "752                   ALINE NEGROMONTE BRANDAO\n",
       "753                   MARILIA DOS SANTOS GOMES\n",
       "754    FRANCISCO KELSEN MOREIRA FERREIRA GOMES\n",
       "755                 FLAVIANO OLIVEIRA DA SILVA\n",
       "Name: NM_CANDIDATO, Length: 756, dtype: object"
      ]
     },
     "metadata": {},
     "output_type": "display_data"
    },
    {
     "name": "stdout",
     "output_type": "stream",
     "text": [
      "PARDA       45.106%\n",
      "BRANCA      41.534%\n",
      "PRETA       12.831%\n",
      "IND�GENA     0.397%\n",
      "AMARELA      0.132%\n",
      "Name: DS_COR_RACA, dtype: object\n"
     ]
    }
   ],
   "source": [
    "import pandas as pd\n",
    "\n",
    "tabela = pd.read_csv('PARAIBA.csv', sep=';')\n",
    "\n",
    "# display(tabela)\n",
    "display(tabela['NM_CANDIDATO'])\n",
    "\n",
    "incidencia = tabela['DS_COR_RACA'].value_counts(normalize=True)\n",
    "print(incidencia.apply(lambda x: f\"{(x*100):.3f}%\"))"
   ]
  }
 ],
 "metadata": {
  "kernelspec": {
   "display_name": "Python 3",
   "language": "python",
   "name": "python3"
  },
  "language_info": {
   "codemirror_mode": {
    "name": "ipython",
    "version": 3
   },
   "file_extension": ".py",
   "mimetype": "text/x-python",
   "name": "python",
   "nbconvert_exporter": "python",
   "pygments_lexer": "ipython3",
   "version": "3.10.11"
  },
  "orig_nbformat": 4
 },
 "nbformat": 4,
 "nbformat_minor": 2
}
