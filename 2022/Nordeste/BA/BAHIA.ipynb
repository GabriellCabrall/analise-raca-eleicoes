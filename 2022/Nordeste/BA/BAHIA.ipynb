{
 "cells": [
  {
   "cell_type": "code",
   "execution_count": 1,
   "metadata": {},
   "outputs": [
    {
     "data": {
      "text/plain": [
       "0               ALDACI SILVA DE ALMEIDA ALMEIDA\n",
       "1                          VITOR CARDIM RIBEIRO\n",
       "2               CARLOS ALBERTO SOUZA DOS SANTOS\n",
       "3                         RONILDO LEITE PEREIRA\n",
       "4                      CLAUDIA XAVIER DE CASTRO\n",
       "                         ...                   \n",
       "1718                      EDICLEY SOUZA BARRETO\n",
       "1719                 ROSILDO RIBEIRO DOS SANTOS\n",
       "1720    MARCIA VIRGINIA DE BRITO FARIAS BIBIANO\n",
       "1721                         CARLOS GOMES SILVA\n",
       "1722               RICARDO GREY DE ARA�JO LEMOS\n",
       "Name: NM_CANDIDATO, Length: 1723, dtype: object"
      ]
     },
     "metadata": {},
     "output_type": "display_data"
    },
    {
     "name": "stdout",
     "output_type": "stream",
     "text": [
      "PARDA            52.699%\n",
      "PRETA            25.769%\n",
      "BRANCA           21.010%\n",
      "IND�GENA          0.348%\n",
      "AMARELA           0.116%\n",
      "N�O INFORMADO     0.058%\n",
      "Name: DS_COR_RACA, dtype: object\n"
     ]
    }
   ],
   "source": [
    "import pandas as pd\n",
    "\n",
    "tabela = pd.read_csv('BAHIA.csv', sep=';')\n",
    "\n",
    "# display(tabela)\n",
    "display(tabela['NM_CANDIDATO'])\n",
    "\n",
    "incidencia = tabela['DS_COR_RACA'].value_counts(normalize=True)\n",
    "print(incidencia.apply(lambda x: f\"{(x*100):.3f}%\"))"
   ]
  }
 ],
 "metadata": {
  "kernelspec": {
   "display_name": "Python 3",
   "language": "python",
   "name": "python3"
  },
  "language_info": {
   "codemirror_mode": {
    "name": "ipython",
    "version": 3
   },
   "file_extension": ".py",
   "mimetype": "text/x-python",
   "name": "python",
   "nbconvert_exporter": "python",
   "pygments_lexer": "ipython3",
   "version": "3.10.11"
  },
  "orig_nbformat": 4
 },
 "nbformat": 4,
 "nbformat_minor": 2
}
