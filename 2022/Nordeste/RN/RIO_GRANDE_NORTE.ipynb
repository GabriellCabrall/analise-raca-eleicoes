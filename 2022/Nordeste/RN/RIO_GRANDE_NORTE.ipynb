{
 "cells": [
  {
   "cell_type": "code",
   "execution_count": 1,
   "metadata": {},
   "outputs": [
    {
     "data": {
      "text/plain": [
       "0                DELKIZA ALVES CAVALCANTE\n",
       "1               GERALDO SOUZA PINHO ALVES\n",
       "2       FRANCISCO MARCIO DE ARRUDA CABRAL\n",
       "3                ANDR� ARAUJO DE CARVALHO\n",
       "4      ANGELICA SILVIA CABRAL DE OLIVEIRA\n",
       "                      ...                \n",
       "552            JOS� DIAS DE SOUZA MARTINS\n",
       "553                 CLARICE TEIXEIRA MAIA\n",
       "554         NELTER LULA DE QUEIROZ SANTOS\n",
       "555         EMANUEL MARQUES DO NASCIMENTO\n",
       "556                   JOS� CARLOS DE SENA\n",
       "Name: NM_CANDIDATO, Length: 557, dtype: object"
      ]
     },
     "metadata": {},
     "output_type": "display_data"
    },
    {
     "name": "stdout",
     "output_type": "stream",
     "text": [
      "BRANCA      48.474%\n",
      "PARDA       41.293%\n",
      "PRETA        9.515%\n",
      "AMARELA      0.359%\n",
      "IND�GENA     0.359%\n",
      "Name: DS_COR_RACA, dtype: object\n"
     ]
    }
   ],
   "source": [
    "import pandas as pd\n",
    "\n",
    "tabela = pd.read_csv('RIO_GRANDE_NORTE.csv', sep=';')\n",
    "\n",
    "# display(tabela)\n",
    "display(tabela['NM_CANDIDATO'])\n",
    "\n",
    "incidencia = tabela['DS_COR_RACA'].value_counts(normalize=True)\n",
    "print(incidencia.apply(lambda x: f\"{(x*100):.3f}%\"))"
   ]
  }
 ],
 "metadata": {
  "kernelspec": {
   "display_name": "Python 3",
   "language": "python",
   "name": "python3"
  },
  "language_info": {
   "codemirror_mode": {
    "name": "ipython",
    "version": 3
   },
   "file_extension": ".py",
   "mimetype": "text/x-python",
   "name": "python",
   "nbconvert_exporter": "python",
   "pygments_lexer": "ipython3",
   "version": "3.10.11"
  },
  "orig_nbformat": 4
 },
 "nbformat": 4,
 "nbformat_minor": 2
}
