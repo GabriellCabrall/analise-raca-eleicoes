{
 "cells": [
  {
   "cell_type": "code",
   "execution_count": 1,
   "metadata": {},
   "outputs": [
    {
     "data": {
      "text/plain": [
       "0         JO�O GERV�SIO DOS SANTOS NETO\n",
       "1                   MARIA JOS� DA COSTA\n",
       "2          GHISLAYNE E SILVA CAVALCANTE\n",
       "3             MAIRAN GON�ALVES DA SILVA\n",
       "4          RONIE CLEYTON MORAES EULALIO\n",
       "                     ...               \n",
       "428             MERLONG SOLANO NOGUEIRA\n",
       "429    MARIA DO SOCORRO MENDES DE SOUSA\n",
       "430                F�BIO DE MELO S�RVIO\n",
       "431                 AMANDA COSTA SANTOS\n",
       "432               SAMUEL CO�LHO DE MELO\n",
       "Name: NM_CANDIDATO, Length: 433, dtype: object"
      ]
     },
     "metadata": {},
     "output_type": "display_data"
    },
    {
     "name": "stdout",
     "output_type": "stream",
     "text": [
      "PARDA       47.113%\n",
      "BRANCA      35.335%\n",
      "PRETA       16.628%\n",
      "IND�GENA     0.693%\n",
      "AMARELA      0.231%\n",
      "Name: DS_COR_RACA, dtype: object\n"
     ]
    }
   ],
   "source": [
    "import pandas as pd\n",
    "\n",
    "tabela = pd.read_csv('PIAUI.csv', sep=';')\n",
    "\n",
    "# display(tabela)\n",
    "display(tabela['NM_CANDIDATO'])\n",
    "\n",
    "incidencia = tabela['DS_COR_RACA'].value_counts(normalize=True)\n",
    "print(incidencia.apply(lambda x: f\"{(x*100):.3f}%\"))"
   ]
  }
 ],
 "metadata": {
  "kernelspec": {
   "display_name": "Python 3",
   "language": "python",
   "name": "python3"
  },
  "language_info": {
   "codemirror_mode": {
    "name": "ipython",
    "version": 3
   },
   "file_extension": ".py",
   "mimetype": "text/x-python",
   "name": "python",
   "nbconvert_exporter": "python",
   "pygments_lexer": "ipython3",
   "version": "3.10.11"
  },
  "orig_nbformat": 4
 },
 "nbformat": 4,
 "nbformat_minor": 2
}
