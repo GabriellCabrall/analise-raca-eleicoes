{
 "cells": [
  {
   "cell_type": "code",
   "execution_count": 1,
   "metadata": {},
   "outputs": [
    {
     "name": "stdout",
     "output_type": "stream",
     "text": [
      "<class 'pandas.core.frame.DataFrame'>\n",
      "RangeIndex: 2009 entries, 0 to 2008\n",
      "Data columns (total 9 columns):\n",
      " #   Column                              Non-Null Count  Dtype \n",
      "---  ------                              --------------  ----- \n",
      " 0   Código Classificador                2009 non-null   object\n",
      " 1   Nome Classificador                  2009 non-null   object\n",
      " 2   Eleição                             2009 non-null   object\n",
      " 3   Foto                                2009 non-null   object\n",
      " 4   SQ_CANDIDATO                        2009 non-null   object\n",
      " 5   Código da Cor                       2009 non-null   object\n",
      " 6   Cor                                 2009 non-null   object\n",
      " 7   Teve dificuldade para classificar?  2009 non-null   object\n",
      " 8   Houve erro na exibição da foto      2009 non-null   object\n",
      "dtypes: object(9)\n",
      "memory usage: 141.4+ KB\n"
     ]
    },
    {
     "data": {
      "text/plain": [
       "None"
      ]
     },
     "metadata": {},
     "output_type": "display_data"
    }
   ],
   "source": [
    "import pandas as pd\n",
    "\n",
    "tabela_het = pd.read_csv('relatorioPA.csv', sep=';')\n",
    "tabela_het.columns = tabela_het.columns.str.replace('\"', '').str.strip()\n",
    "\n",
    "display(tabela_het.info())\n",
    "\n",
    "tabela_het.to_excel('relatorio.xlsx', index=False)"
   ]
  },
  {
   "cell_type": "markdown",
   "metadata": {},
   "source": []
  }
 ],
 "metadata": {
  "kernelspec": {
   "display_name": "Python 3",
   "language": "python",
   "name": "python3"
  },
  "language_info": {
   "codemirror_mode": {
    "name": "ipython",
    "version": 3
   },
   "file_extension": ".py",
   "mimetype": "text/x-python",
   "name": "python",
   "nbconvert_exporter": "python",
   "pygments_lexer": "ipython3",
   "version": "3.10.11"
  }
 },
 "nbformat": 4,
 "nbformat_minor": 2
}
