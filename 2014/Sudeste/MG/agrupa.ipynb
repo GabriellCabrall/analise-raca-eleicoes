{
 "cells": [
  {
   "cell_type": "code",
   "execution_count": 8,
   "metadata": {},
   "outputs": [
    {
     "name": "stdout",
     "output_type": "stream",
     "text": [
      "3\n",
      "[20 22 32]\n"
     ]
    }
   ],
   "source": [
    "import pandas as pd\n",
    "\n",
    "def cor_mais_frequente(cor1, cor2, cor3):\n",
    "    cores = [cor1, cor2, cor3]\n",
    "    cor_mais_frequente = max(set(cores), key = cores.count)\n",
    "    if cores.count(cor_mais_frequente) > 1:\n",
    "        return cor_mais_frequente\n",
    "    else:\n",
    "        return 'conflito'\n",
    "\n",
    "tabela = pd.read_excel('relatorioMG.xlsx')\n",
    "\n",
    "classificadores = tabela['Código Classificador'].unique()\n",
    "\n",
    "print(len(classificadores))\n",
    "print(classificadores)\n",
    "\n",
    "for classificador in classificadores:\n",
    "  # Cria um novo dataframe para cada classificador\n",
    "    exec(f\"tabela{classificador} = tabela[tabela['Código Classificador'] == {classificador}]\")\n",
    "    # Ordena o dataframe\n",
    "    exec(f\"tabela{classificador} = tabela{classificador}.sort_values('SQ_CANDIDATO_OF')\")\n",
    "    # Remove os espaços antes e depois dos dados da coluna 'Cor'\n",
    "    exec(f\"tabela{classificador}['Cor'] = tabela{classificador}['Cor'].str.strip()\")\n",
    "    # Deleta as colunas 'SQ_CANDIDATO_x' e 'SQ_CANDIDATO_y'\n",
    "    exec(f\"tabela{classificador} = tabela{classificador}.drop(columns=['SQ_CANDIDATO_x', 'SQ_CANDIDATO_y', 'SQ_CANDIDATO', 'Nome Classificador', 'Código Classificador', 'Foto', 'Código da Cor'])\")\n",
    "    # Redefine o índice do dataframe\n",
    "    exec(f\"tabela{classificador} = tabela{classificador}.reset_index(drop=True)\")\n",
    "\n",
    "# Cria um novo dataframe que é a média dos três dataframes\n",
    "df_final = tabela20.copy()\n",
    "df_final['Cor'] = df_final.apply(lambda row: cor_mais_frequente(tabela20.loc[row.name, 'Cor'], tabela22.loc[row.name, 'Cor'], tabela32.loc[row.name, 'Cor']), axis=1)\n",
    "\n",
    "df_final.to_excel('resultado.xlsx', index=False)"
   ]
  },
  {
   "cell_type": "code",
   "execution_count": 7,
   "metadata": {},
   "outputs": [
    {
     "name": "stdout",
     "output_type": "stream",
     "text": [
      "Os valores duplicados na coluna 'SQ_CANDIDATO_OF' são:\n",
      "82     130000000340\n",
      "83     130000000340\n",
      "161    130000000418\n",
      "162    130000000418\n",
      "230    130000000674\n",
      "231    130000000674\n",
      "345    130000000889\n",
      "346    130000000889\n",
      "453    130000001143\n",
      "454    130000001143\n",
      "561    130000001331\n",
      "562    130000001331\n",
      "684    130000001992\n",
      "685    130000001992\n",
      "692    130000002018\n",
      "693    130000002018\n",
      "Name: SQ_CANDIDATO_OF, dtype: int64\n"
     ]
    }
   ],
   "source": [
    "# Supondo que 'tabela20' seja o seu DataFrame\n",
    "duplicados = tabela22[tabela22.duplicated(subset='SQ_CANDIDATO_OF', keep=False)]\n",
    "\n",
    "# Imprime os valores duplicados\n",
    "if not duplicados.empty:\n",
    "    print(\"Os valores duplicados na coluna 'SQ_CANDIDATO_OF' são:\")\n",
    "    print(duplicados['SQ_CANDIDATO_OF'])\n",
    "else:\n",
    "    print(\"Não existem valores duplicados na coluna 'SQ_CANDIDATO_OF'.\")"
   ]
  }
 ],
 "metadata": {
  "kernelspec": {
   "display_name": "Python 3",
   "language": "python",
   "name": "python3"
  },
  "language_info": {
   "codemirror_mode": {
    "name": "ipython",
    "version": 3
   },
   "file_extension": ".py",
   "mimetype": "text/x-python",
   "name": "python",
   "nbconvert_exporter": "python",
   "pygments_lexer": "ipython3",
   "version": "3.10.11"
  }
 },
 "nbformat": 4,
 "nbformat_minor": 2
}
