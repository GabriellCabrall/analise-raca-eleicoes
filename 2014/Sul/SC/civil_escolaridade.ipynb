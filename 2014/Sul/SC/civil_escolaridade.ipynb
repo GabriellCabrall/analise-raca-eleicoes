{
 "cells": [
  {
   "cell_type": "code",
   "execution_count": 1,
   "metadata": {},
   "outputs": [
    {
     "name": "stderr",
     "output_type": "stream",
     "text": [
      "C:\\Users\\gabri\\AppData\\Local\\Temp\\ipykernel_15888\\1147544592.py:16: FutureWarning: Passing 'suffixes' which cause duplicate columns {'SQ_CANDIDATO_x'} in the result is deprecated and will raise a MergeError in a future version.\n",
      "  tabela_het = pd.merge(tabela_het, tabela_auto[['SQ_CANDIDATO', 'DS_COR_RACA']], left_on='SQ_CANDIDATO_OF', right_on='SQ_CANDIDATO', how='left')\n"
     ]
    }
   ],
   "source": [
    "import pandas as pd\n",
    "\n",
    "tabela_het = pd.read_excel('resultado.xlsx')\n",
    "tabela_auto = pd.read_csv('consulta_cand_2014_SC.csv', encoding='latin1', sep=';')\n",
    "\n",
    "# Criação da nova coluna 'Estado Civil'\n",
    "tabela_het = pd.merge(tabela_het, tabela_auto[['SQ_CANDIDATO', 'DS_ESTADO_CIVIL']], left_on='SQ_CANDIDATO_OF', right_on='SQ_CANDIDATO', how='left')\n",
    "\n",
    "# Criação da nova coluna 'Grau de Instrução'\n",
    "tabela_het = pd.merge(tabela_het, tabela_auto[['SQ_CANDIDATO', 'DS_GRAU_INSTRUCAO']], left_on='SQ_CANDIDATO_OF', right_on='SQ_CANDIDATO', how='left')\n",
    "\n",
    "# Criação da nova coluna 'Grau de Instrução'\n",
    "tabela_het = pd.merge(tabela_het, tabela_auto[['SQ_CANDIDATO', 'SG_PARTIDO']], left_on='SQ_CANDIDATO_OF', right_on='SQ_CANDIDATO', how='left')\n",
    "\n",
    "# Criação da nova coluna 'Autodeclaração'\n",
    "tabela_het = pd.merge(tabela_het, tabela_auto[['SQ_CANDIDATO', 'DS_COR_RACA']], left_on='SQ_CANDIDATO_OF', right_on='SQ_CANDIDATO', how='left')\n",
    "\n",
    "tabela_het = tabela_het.drop(columns=['SQ_CANDIDATO_x', 'SQ_CANDIDATO_y'])\n",
    "\n",
    "tabela_het.to_excel('resultado.xlsx', index=False)"
   ]
  }
 ],
 "metadata": {
  "kernelspec": {
   "display_name": "Python 3",
   "language": "python",
   "name": "python3"
  },
  "language_info": {
   "codemirror_mode": {
    "name": "ipython",
    "version": 3
   },
   "file_extension": ".py",
   "mimetype": "text/x-python",
   "name": "python",
   "nbconvert_exporter": "python",
   "pygments_lexer": "ipython3",
   "version": "3.10.11"
  }
 },
 "nbformat": 4,
 "nbformat_minor": 2
}
