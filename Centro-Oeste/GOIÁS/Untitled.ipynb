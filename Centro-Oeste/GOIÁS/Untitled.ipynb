{
 "cells": [
  {
   "cell_type": "code",
   "execution_count": 1,
   "id": "3f9e4391",
   "metadata": {},
   "outputs": [
    {
     "name": "stdout",
     "output_type": "stream",
     "text": [
      "[14 21 22 24 26 28 29]\n"
     ]
    }
   ],
   "source": [
    "import pandas as pd\n",
    "import plotly.express as px\n",
    "\n",
    "tabela = pd.read_csv('relatorioGO.csv', sep=';')\n",
    "tabela.columns = tabela.columns.str.replace('\"', '')\n",
    "tabela[\"Código Classificador\"] = tabela[\"Código Classificador\"].str.replace('\"', '')\n",
    "tabela[\"Código Classificador\"] = tabela[\"Código Classificador\"].astype(int)\n",
    "tabela = tabela.rename(columns={\" Código da Cor\": \"Código da Cor\"})\n",
    "# print(tabela.columns)\n",
    "tabela[\"Código da Cor\"] = tabela[\"Código da Cor\"].str.replace('\"', '')\n",
    "tabela[\"Código da Cor\"] = tabela[\"Código da Cor\"].astype(int)\n",
    "print(tabela['Código Classificador'].unique())\n",
    "# df_9 = tabela.loc[tabela['Código Classificador'] == 27]\n",
    "# display(df_9)\n",
    "# display(tabela)\n",
    "# print(tabela.info)\n",
    "# 20, 22, 27"
   ]
  },
  {
   "cell_type": "code",
   "execution_count": 2,
   "id": "047aa6ca",
   "metadata": {},
   "outputs": [],
   "source": [
    "def get_incidencia_cor(codigo):\n",
    "    tabela_codigo = tabela[tabela['Código Classificador'] == codigo]\n",
    "    incidencia_cor = tabela_codigo[' Cor'].value_counts(normalize=True) * 100\n",
    "    incidencia_cor = pd.DataFrame(incidencia_cor)\n",
    "    df_incidencia_cor = incidencia_cor.reset_index()\n",
    "    df_incidencia_cor.columns = ['Cor', 'Incidência']\n",
    "    df_incidencia_cor['Incidência'] = df_incidencia_cor['Incidência']\n",
    "    \n",
    "    return {'df': df_incidencia_cor, 'tabela': tabela_codigo}\n",
    "\n",
    "# Agora você pode chamar a função para cada código desejado e armazenar os resultados em variáveis separadas\n",
    "resultado_22 = get_incidencia_cor(22)\n",
    "df_incidencia_cor_22 = resultado_22['df']\n",
    "tabela_codigo_22 = resultado_22['tabela']\n",
    "\n",
    "resultado_24 = get_incidencia_cor(24)\n",
    "df_incidencia_cor_24 = resultado_24['df']\n",
    "tabela_codigo_24 = resultado_24['tabela']\n",
    "\n",
    "resultado_29 = get_incidencia_cor(29)\n",
    "df_incidencia_cor_29 = resultado_29['df']\n",
    "tabela_codigo_29 = resultado_29['tabela']\n",
    "\n"
   ]
  },
  {
   "cell_type": "code",
   "execution_count": 3,
   "id": "ecbb8e8d",
   "metadata": {},
   "outputs": [],
   "source": [
    "# Lista de códigos\n",
    "codigos = [22, 24, 29]\n",
    "\n",
    "# Lista para armazenar os dataframes\n",
    "dfs = []\n",
    "\n",
    "# Gerar e armazenar os dataframes\n",
    "for codigo in codigos:\n",
    "    resultado = get_incidencia_cor(codigo)\n",
    "    df = resultado['df']\n",
    "    dfs.append(df)"
   ]
  },
  {
   "cell_type": "code",
   "execution_count": 4,
   "id": "bae100d1",
   "metadata": {},
   "outputs": [
    {
     "data": {
      "text/html": [
       "<div>\n",
       "<style scoped>\n",
       "    .dataframe tbody tr th:only-of-type {\n",
       "        vertical-align: middle;\n",
       "    }\n",
       "\n",
       "    .dataframe tbody tr th {\n",
       "        vertical-align: top;\n",
       "    }\n",
       "\n",
       "    .dataframe thead th {\n",
       "        text-align: right;\n",
       "    }\n",
       "</style>\n",
       "<table border=\"1\" class=\"dataframe\">\n",
       "  <thead>\n",
       "    <tr style=\"text-align: right;\">\n",
       "      <th></th>\n",
       "      <th>Cor</th>\n",
       "      <th>Incidência</th>\n",
       "    </tr>\n",
       "  </thead>\n",
       "  <tbody>\n",
       "    <tr>\n",
       "      <th>0</th>\n",
       "      <td>\"Branco / Blanco / White\"</td>\n",
       "      <td>79.951100</td>\n",
       "    </tr>\n",
       "    <tr>\n",
       "      <th>1</th>\n",
       "      <td>\"Pardo / “Moreno” / Brown\"</td>\n",
       "      <td>16.381418</td>\n",
       "    </tr>\n",
       "    <tr>\n",
       "      <th>2</th>\n",
       "      <td>\"Preto / Negro / Black\"</td>\n",
       "      <td>3.667482</td>\n",
       "    </tr>\n",
       "    <tr>\n",
       "      <th>3</th>\n",
       "      <td>\"Branco / Blanco / White\"</td>\n",
       "      <td>83.414634</td>\n",
       "    </tr>\n",
       "    <tr>\n",
       "      <th>4</th>\n",
       "      <td>\"Pardo / “Moreno” / Brown\"</td>\n",
       "      <td>10.243902</td>\n",
       "    </tr>\n",
       "    <tr>\n",
       "      <th>5</th>\n",
       "      <td>\"Preto / Negro / Black\"</td>\n",
       "      <td>6.341463</td>\n",
       "    </tr>\n",
       "    <tr>\n",
       "      <th>6</th>\n",
       "      <td>\"Branco / Blanco / White\"</td>\n",
       "      <td>90.709046</td>\n",
       "    </tr>\n",
       "    <tr>\n",
       "      <th>7</th>\n",
       "      <td>\"Preto / Negro / Black\"</td>\n",
       "      <td>6.356968</td>\n",
       "    </tr>\n",
       "    <tr>\n",
       "      <th>8</th>\n",
       "      <td>\"Pardo / “Moreno” / Brown\"</td>\n",
       "      <td>2.689487</td>\n",
       "    </tr>\n",
       "    <tr>\n",
       "      <th>9</th>\n",
       "      <td>\"Amarelo / Amarillo / Yellow\"</td>\n",
       "      <td>0.244499</td>\n",
       "    </tr>\n",
       "  </tbody>\n",
       "</table>\n",
       "</div>"
      ],
      "text/plain": [
       "                              Cor  Incidência\n",
       "0       \"Branco / Blanco / White\"   79.951100\n",
       "1      \"Pardo / “Moreno” / Brown\"   16.381418\n",
       "2         \"Preto / Negro / Black\"    3.667482\n",
       "3       \"Branco / Blanco / White\"   83.414634\n",
       "4      \"Pardo / “Moreno” / Brown\"   10.243902\n",
       "5         \"Preto / Negro / Black\"    6.341463\n",
       "6       \"Branco / Blanco / White\"   90.709046\n",
       "7         \"Preto / Negro / Black\"    6.356968\n",
       "8      \"Pardo / “Moreno” / Brown\"    2.689487\n",
       "9   \"Amarelo / Amarillo / Yellow\"    0.244499"
      ]
     },
     "metadata": {},
     "output_type": "display_data"
    }
   ],
   "source": [
    "df_concatenado = pd.concat(dfs)\n",
    "df_concatenado = df_concatenado.reset_index().rename(columns={'index': 'cor'})\n",
    "# df_concatenado.columns = ['Cor', 'Incidência']\n",
    "df_concatenado = df_concatenado.drop('cor', axis=1)\n",
    "\n",
    "display(df_concatenado)"
   ]
  },
  {
   "cell_type": "code",
   "execution_count": 5,
   "id": "ad2bc431",
   "metadata": {},
   "outputs": [
    {
     "name": "stdout",
     "output_type": "stream",
     "text": [
      "Cor\n",
      " \"Amarelo / Amarillo / Yellow\"     0.244%\n",
      " \"Branco / Blanco / White\"        84.692%\n",
      " \"Pardo / “Moreno” / Brown\"        9.772%\n",
      " \"Preto / Negro / Black\"           5.455%\n",
      "Name: Incidência, dtype: object\n"
     ]
    }
   ],
   "source": [
    "media_por_cor = df_concatenado.groupby('Cor')['Incidência'].mean()\n",
    "media_por_cor = media_por_cor.apply('{:.3f}%'.format)\n",
    "\n",
    "print(media_por_cor)"
   ]
  },
  {
   "cell_type": "code",
   "execution_count": 6,
   "id": "c155ef52",
   "metadata": {},
   "outputs": [],
   "source": [
    "import openpyxl\n",
    "from openpyxl import load_workbook\n",
    "\n",
    "df_concatenados = pd.concat([tabela_codigo_22, tabela_codigo_24, tabela_codigo_29])\n",
    "df_concatenados[' Cor'] = df_concatenados[' Cor'].replace(' \"Branco / Blanco / White\"', 'Branco')\n",
    "df_concatenados[' Cor'] = df_concatenados[' Cor'].replace(' \"Amarelo / Amarillo / Yellow\"', 'Amarelo')\n",
    "df_concatenados[' Cor'] = df_concatenados[' Cor'].replace(' \"Pardo / “Moreno” / Brown\"', 'Pardo')\n",
    "df_concatenados[' Cor'] = df_concatenados[' Cor'].replace(' \"Preto / Negro / Black\"', 'Preto')\n",
    "\n",
    "valores_cor = df_concatenados[' Cor'].unique\n",
    "# print(valores_cor)\n",
    "\n",
    "nome_arquivo = 'dadosGO.xlsx'\n",
    "df_concatenados.to_excel(nome_arquivo, sheet_name='Heteroclassificação', index=False)"
   ]
  }
 ],
 "metadata": {
  "kernelspec": {
   "display_name": "Python 3 (ipykernel)",
   "language": "python",
   "name": "python3"
  },
  "language_info": {
   "codemirror_mode": {
    "name": "ipython",
    "version": 3
   },
   "file_extension": ".py",
   "mimetype": "text/x-python",
   "name": "python",
   "nbconvert_exporter": "python",
   "pygments_lexer": "ipython3",
   "version": "3.11.5"
  }
 },
 "nbformat": 4,
 "nbformat_minor": 5
}
