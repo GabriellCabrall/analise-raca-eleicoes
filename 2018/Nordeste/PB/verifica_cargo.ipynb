{
 "cells": [
  {
   "cell_type": "code",
   "execution_count": null,
   "metadata": {},
   "outputs": [],
   "source": [
    "import pandas as pd\n",
    "\n",
    "tabela_het = pd.read_excel('relatorioPB.xlsx')\n",
    "tabela_auto = pd.read_csv('consulta_cand_2018_PB.csv', encoding='latin1', sep=';')\n",
    "\n",
    "# display(tabela_auto.info())\n",
    "# display(tabela_het.info())"
   ]
  },
  {
   "cell_type": "code",
   "execution_count": 2,
   "metadata": {},
   "outputs": [],
   "source": [
    "# Função para verificar se o código está na foto\n",
    "def verifica_codigo_na_foto(linha):\n",
    "    for linha1 in tabela_auto.index:\n",
    "        codigo = str(tabela_auto.loc[linha1, 'SQ_CANDIDATO'])\n",
    "        if codigo in linha['Foto']:\n",
    "            codigo = int(codigo)\n",
    "            return codigo\n",
    "    return None\n",
    "\n",
    "# Criação da nova coluna 'SQ_CANDIDATO_OF'\n",
    "tabela_het['SQ_CANDIDATO_OF'] = tabela_het.apply(verifica_codigo_na_foto, axis=1)\n",
    "\n",
    "# Exibição dos dataframes\n",
    "# display(tabela_auto)\n",
    "# display(tabela_het)"
   ]
  },
  {
   "cell_type": "code",
   "execution_count": 3,
   "metadata": {},
   "outputs": [],
   "source": [
    "# Criação da nova coluna 'Cargo'\n",
    "tabela_het = pd.merge(tabela_het, tabela_auto[['SQ_CANDIDATO', 'DS_CARGO']], left_on='SQ_CANDIDATO_OF', right_on='SQ_CANDIDATO', how='left')\n",
    "\n",
    "# Renomeando a coluna 'DS_CARGO' para 'Cargo'\n",
    "tabela_het.rename(columns={'DS_CARGO': 'Cargo'}, inplace=True)\n",
    "tabela_het = tabela_het[tabela_het['Cargo'] == 'DEPUTADO FEDERAL']\n",
    "\n",
    "tabela_het.to_excel('relatorioPB.xlsx', index=False)"
   ]
  },
  {
   "cell_type": "code",
   "execution_count": 20,
   "metadata": {},
   "outputs": [],
   "source": []
  }
 ],
 "metadata": {
  "kernelspec": {
   "display_name": "Python 3",
   "language": "python",
   "name": "python3"
  },
  "language_info": {
   "codemirror_mode": {
    "name": "ipython",
    "version": 3
   },
   "file_extension": ".py",
   "mimetype": "text/x-python",
   "name": "python",
   "nbconvert_exporter": "python",
   "pygments_lexer": "ipython3",
   "version": "3.10.11"
  }
 },
 "nbformat": 4,
 "nbformat_minor": 2
}
