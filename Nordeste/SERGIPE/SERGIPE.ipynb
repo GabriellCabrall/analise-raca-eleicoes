{
 "cells": [
  {
   "cell_type": "code",
   "execution_count": 1,
   "metadata": {},
   "outputs": [
    {
     "data": {
      "text/plain": [
       "0               JOS� MARCOS MORAIS SANTOS\n",
       "1                 MARIA LUZIA VIEIRA LIMA\n",
       "2                        JOSE TOLEDO NETO\n",
       "3                 LUCIENE RODRIGUES PRATA\n",
       "4                MARLETE MARIA DOS SANTOS\n",
       "                      ...                \n",
       "540                  SUELY CHAVES BARRETO\n",
       "541                     GILENO DOS SANTOS\n",
       "542        WASHINGTON STECANELA CERQUEIRA\n",
       "543               MAGNOVALDO SANTOS ALVES\n",
       "544    MARIA DE LOURDES OTAVIANO DE MOURA\n",
       "Name: NM_CANDIDATO, Length: 545, dtype: object"
      ]
     },
     "metadata": {},
     "output_type": "display_data"
    },
    {
     "name": "stdout",
     "output_type": "stream",
     "text": [
      "PARDA            49.174%\n",
      "BRANCA           32.844%\n",
      "PRETA            16.514%\n",
      "N�O INFORMADO     0.550%\n",
      "IND�GENA          0.550%\n",
      "AMARELA           0.367%\n",
      "Name: DS_COR_RACA, dtype: object\n"
     ]
    }
   ],
   "source": [
    "import pandas as pd\n",
    "\n",
    "tabela = pd.read_csv('SERGIPE.csv', sep=';')\n",
    "\n",
    "# display(tabela)\n",
    "display(tabela['NM_CANDIDATO'])\n",
    "\n",
    "incidencia = tabela['DS_COR_RACA'].value_counts(normalize=True)\n",
    "print(incidencia.apply(lambda x: f\"{(x*100):.3f}%\"))"
   ]
  }
 ],
 "metadata": {
  "kernelspec": {
   "display_name": "Python 3",
   "language": "python",
   "name": "python3"
  },
  "language_info": {
   "codemirror_mode": {
    "name": "ipython",
    "version": 3
   },
   "file_extension": ".py",
   "mimetype": "text/x-python",
   "name": "python",
   "nbconvert_exporter": "python",
   "pygments_lexer": "ipython3",
   "version": "3.10.11"
  },
  "orig_nbformat": 4
 },
 "nbformat": 4,
 "nbformat_minor": 2
}
