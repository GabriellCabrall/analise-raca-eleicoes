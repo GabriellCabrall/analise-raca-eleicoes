{
 "cells": [
  {
   "cell_type": "code",
   "execution_count": 1,
   "metadata": {},
   "outputs": [
    {
     "name": "stdout",
     "output_type": "stream",
     "text": [
      "[12 21 24 25 26]\n"
     ]
    }
   ],
   "source": [
    "import pandas as pd\n",
    "import plotly.express as px\n",
    "\n",
    "tabela = pd.read_csv('relatorioPI.csv', sep=';')\n",
    "tabela.columns = tabela.columns.str.replace('\"', '')\n",
    "tabela[\"Código Classificador\"] = tabela[\"Código Classificador\"].str.replace('\"', '')\n",
    "tabela[\"Código Classificador\"] = tabela[\"Código Classificador\"].astype(int)\n",
    "tabela = tabela.rename(columns={\" Código da Cor\": \"Código da Cor\"})\n",
    "# print(tabela.columns)\n",
    "tabela[\"Código da Cor\"] = tabela[\"Código da Cor\"].str.replace('\"', '')\n",
    "tabela[\"Código da Cor\"] = tabela[\"Código da Cor\"].astype(int)\n",
    "print(tabela['Código Classificador'].unique())\n",
    "# display(tabela)\n",
    "# df_9 = tabela.loc[tabela['Código Classificador'] == 24]\n",
    "# display(df_9)\n",
    "# print(tabela.info)\n",
    "# 25, 12, 24"
   ]
  },
  {
   "cell_type": "code",
   "execution_count": 2,
   "metadata": {},
   "outputs": [],
   "source": [
    "tabela_12 = tabela[tabela['Código Classificador'] == 12]\n",
    "tabela_24 = tabela[tabela['Código Classificador'] == 24]\n",
    "tabela_25 = tabela[tabela['Código Classificador'] == 25]\n",
    "\n",
    "incidencia_cor_12 = tabela_12[' Cor'].value_counts(normalize=True) * 100\n",
    "incidencia_cor_12 = pd.DataFrame(incidencia_cor_12)\n",
    "df_incidencia_cor_12 = incidencia_cor_12.reset_index()\n",
    "df_incidencia_cor_12.columns = ['Cor', 'Incidência']\n",
    "df_incidencia_cor_12['Incidência'] = df_incidencia_cor_12['Incidência']\n",
    "# display(df_incidencia_cor_14)\n",
    "# print(incidencia_cor_17)\n",
    "\n",
    "incidencia_cor_24 = tabela_24[' Cor'].value_counts(normalize=True) * 100\n",
    "incidencia_cor_24 = pd.DataFrame(incidencia_cor_24)\n",
    "df_incidencia_cor_24 = incidencia_cor_24.reset_index()\n",
    "df_incidencia_cor_24.columns = ['Cor', 'Incidência']\n",
    "df_incidencia_cor_24['Incidência'] = df_incidencia_cor_24['Incidência']\n",
    "# display(df_incidencia_cor_22)\n",
    "# print(incidencia_cor_26)\n",
    "\n",
    "incidencia_cor_25 = tabela_25[' Cor'].value_counts(normalize=True) * 100\n",
    "incidencia_cor_25 = pd.DataFrame(incidencia_cor_25)\n",
    "df_incidencia_cor_25 = incidencia_cor_25.reset_index()\n",
    "df_incidencia_cor_25.columns = ['Cor', 'Incidência']\n",
    "df_incidencia_cor_25['Incidência'] = df_incidencia_cor_25['Incidência']\n",
    "# display(df_incidencia_cor_23)\n",
    "# print(incidencia_cor_29)"
   ]
  },
  {
   "cell_type": "code",
   "execution_count": 3,
   "metadata": {},
   "outputs": [],
   "source": [
    "df_concatenado = pd.concat([incidencia_cor_12, incidencia_cor_24, incidencia_cor_25])\n",
    "# separar a coluna incidencia_cor em duas colunas\n",
    "df_concatenado = df_concatenado.reset_index().rename(columns={'index': 'cor'})\n",
    "df_concatenado.columns = ['Cor', 'Incidência']\n",
    "\n",
    "# display(df_concatenado)\n",
    "\n",
    "# print(df_concatenado.columns)"
   ]
  },
  {
   "cell_type": "code",
   "execution_count": 4,
   "metadata": {},
   "outputs": [
    {
     "name": "stdout",
     "output_type": "stream",
     "text": [
      "Cor\n",
      " \"Amarelo / Amarillo / Yellow\"     1.508%\n",
      " \"Branco / Blanco / White\"        71.692%\n",
      " \"Pardo / “Moreno” / Brown\"       15.410%\n",
      " \"Preto / Negro / Black\"          12.395%\n",
      "Name: Incidência, dtype: object\n"
     ]
    }
   ],
   "source": [
    "media_por_cor = df_concatenado.groupby('Cor')['Incidência'].mean()\n",
    "media_por_cor = media_por_cor.apply('{:.3f}%'.format)\n",
    "\n",
    "print(media_por_cor)"
   ]
  },
  {
   "cell_type": "code",
   "execution_count": 5,
   "metadata": {},
   "outputs": [],
   "source": [
    "import openpyxl\n",
    "from openpyxl import load_workbook\n",
    "\n",
    "df_concatenados = pd.concat([tabela_12, tabela_24, tabela_25])\n",
    "df_concatenados[' Cor'] = df_concatenados[' Cor'].replace(' \"Branco / Blanco / White\"', 'Branco')\n",
    "df_concatenados[' Cor'] = df_concatenados[' Cor'].replace(' \"Amarelo / Amarillo / Yellow\"', 'Amarelo')\n",
    "df_concatenados[' Cor'] = df_concatenados[' Cor'].replace(' \"Pardo / “Moreno” / Brown\"', 'Pardo')\n",
    "df_concatenados[' Cor'] = df_concatenados[' Cor'].replace(' \"Preto / Negro / Black\"', 'Preto')\n",
    "\n",
    "valores_cor = df_concatenados[' Cor'].unique\n",
    "# print(valores_cor)\n",
    "\n",
    "nome_arquivo = 'dadosPI.xlsx'\n",
    "\n",
    "# df_concatenados.to_excel(nome_arquivo, sheet_name='Heteroclassificação', index=False)"
   ]
  },
  {
   "cell_type": "code",
   "execution_count": 6,
   "metadata": {},
   "outputs": [],
   "source": [
    "tabela_auto = pd.read_csv('PIAUI.csv', sep=';')\n",
    "\n",
    "# book = load_workbook(nome_arquivo)\n",
    "\n",
    "# nome_planilha = 'Autodeclaração'\n",
    "\n",
    "# with pd.ExcelWriter(nome_arquivo, engine='openpyxl') as writer:\n",
    "#     writer.book = book\n",
    "#     tabela_auto.to_excel(writer, sheet_name=nome_planilha, index=False)"
   ]
  },
  {
   "cell_type": "code",
   "execution_count": 7,
   "metadata": {},
   "outputs": [
    {
     "name": "stderr",
     "output_type": "stream",
     "text": [
      "C:\\Users\\gabri\\AppData\\Local\\Temp\\ipykernel_12184\\3267112152.py:50: FutureWarning: Setting the `book` attribute is not part of the public API, usage can give unexpected or corrupted results and will be removed in a future version\n",
      "  writer.book = book\n"
     ]
    }
   ],
   "source": [
    "tabela_20 = tabela_12.reset_index(drop=True)\n",
    "tabela_22 = tabela_24.reset_index(drop=True)\n",
    "tabela_27 = tabela_25.reset_index(drop=True)\n",
    "\n",
    "tabela_auto = tabela_auto.loc[tabela_auto['DS_CARGO'] == 'DEPUTADO FEDERAL']\n",
    "tabela_auto = tabela_auto.reset_index(drop=True)\n",
    "\n",
    "tabela_20[' SQ_CANDIDATO'] = tabela_20[' SQ_CANDIDATO'].str.replace('\"', '').str.strip().astype(float)\n",
    "tabela_20 = tabela_20.sort_values(' SQ_CANDIDATO', ascending=True)\n",
    "\n",
    "tabela_22[' SQ_CANDIDATO'] = tabela_22[' SQ_CANDIDATO'].str.replace('\"', '').str.strip().astype(float)\n",
    "tabela_22 = tabela_22.sort_values(' SQ_CANDIDATO', ascending=True)\n",
    "\n",
    "tabela_27[' SQ_CANDIDATO'] = tabela_27[' SQ_CANDIDATO'].str.replace('\"', '').str.strip().astype(float)\n",
    "tabela_27 = tabela_27.sort_values(' SQ_CANDIDATO', ascending=True)\n",
    "\n",
    "tabela_auto = tabela_auto.sort_values('SQ_CANDIDATO', ascending=True)\n",
    "\n",
    "tabela_20 = tabela_20.reset_index(drop=True)\n",
    "tabela_22 = tabela_22.reset_index(drop=True)\n",
    "tabela_27 = tabela_27.reset_index(drop=True)\n",
    "tabela_auto = tabela_auto.reset_index(drop=True)\n",
    "\n",
    "# Exibir o dataframe tabela_auto filtrado\n",
    "# display(tabela_auto)\n",
    "\n",
    "comparacao = pd.merge(tabela_20, tabela_22, left_index=True, right_index=True, suffixes=('_20', '_22'))\n",
    "comparacao = pd.merge(comparacao, tabela_27, left_index=True, right_index=True)\n",
    "comparacao = pd.concat([comparacao, tabela_auto], axis=1)\n",
    "\n",
    "comparacao['cor def'] = \"\"\n",
    "\n",
    "# print(comparacao.columns)\n",
    "\n",
    "for index, row in comparacao.iterrows():\n",
    "    if row[' Cor_20'] == row[' Cor_22'] == row[' Cor']:\n",
    "        comparacao.loc[index, 'cor def'] = row[' Cor']\n",
    "    else:\n",
    "        comparacao.loc[index, 'cor def'] = row['DS_COR_RACA']\n",
    "\n",
    "comparacao = comparacao.dropna(subset=['Código Classificador_20'])\n",
    "\n",
    "# display(comparacao)\n",
    "\n",
    "comparacao.to_excel(nome_arquivo, index=False)\n",
    "book = load_workbook(nome_arquivo)\n",
    "\n",
    "nome_planilha = 'Autodeclaração'\n",
    "with pd.ExcelWriter(nome_arquivo, engine='openpyxl') as writer:\n",
    "    writer.book = book\n",
    "    tabela_auto.to_excel(writer, sheet_name=nome_planilha, index=False)"
   ]
  }
 ],
 "metadata": {
  "kernelspec": {
   "display_name": "Python 3",
   "language": "python",
   "name": "python3"
  },
  "language_info": {
   "codemirror_mode": {
    "name": "ipython",
    "version": 3
   },
   "file_extension": ".py",
   "mimetype": "text/x-python",
   "name": "python",
   "nbconvert_exporter": "python",
   "pygments_lexer": "ipython3",
   "version": "3.10.11"
  },
  "orig_nbformat": 4
 },
 "nbformat": 4,
 "nbformat_minor": 2
}
