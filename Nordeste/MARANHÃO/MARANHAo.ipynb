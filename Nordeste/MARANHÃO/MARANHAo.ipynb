{
 "cells": [
  {
   "cell_type": "code",
   "execution_count": 1,
   "metadata": {},
   "outputs": [
    {
     "data": {
      "text/plain": [
       "0             CARLOS ROBERTO DINIZ ARA�JO\n",
       "1             SOLANGE BEZERRA DE OLIVEIRA\n",
       "2         DENNISON RODRIGO OLIVEIRA SODR�\n",
       "3              FRANCILENE MARTINS MINEIRO\n",
       "4                   SUZENILDE BRAGA SILVA\n",
       "                      ...                \n",
       "954                  MARIA DA GRA�A DINIZ\n",
       "955    PAULO CELSO FONSECA MARINHO JUNIOR\n",
       "956      ELIAS FERREIRA DE HOLANDA JUNIOR\n",
       "957                   ERIVALDO LIMA SOUSA\n",
       "958          CARLOS ALBERTO LOPES PEREIRA\n",
       "Name: NM_CANDIDATO, Length: 959, dtype: object"
      ]
     },
     "metadata": {},
     "output_type": "display_data"
    },
    {
     "name": "stdout",
     "output_type": "stream",
     "text": [
      "PARDA            53.806%\n",
      "BRANCA           29.093%\n",
      "PRETA            16.475%\n",
      "IND�GENA          0.417%\n",
      "AMARELA           0.104%\n",
      "N�O INFORMADO     0.104%\n",
      "Name: DS_COR_RACA, dtype: object\n"
     ]
    }
   ],
   "source": [
    "import pandas as pd\n",
    "\n",
    "tabela = pd.read_csv('MARANHAO.csv', sep=';')\n",
    "\n",
    "# display(tabela)\n",
    "display(tabela['NM_CANDIDATO'])\n",
    "\n",
    "incidencia = tabela['DS_COR_RACA'].value_counts(normalize=True)\n",
    "print(incidencia.apply(lambda x: f\"{(x*100):.3f}%\"))"
   ]
  }
 ],
 "metadata": {
  "kernelspec": {
   "display_name": "Python 3",
   "language": "python",
   "name": "python3"
  },
  "language_info": {
   "codemirror_mode": {
    "name": "ipython",
    "version": 3
   },
   "file_extension": ".py",
   "mimetype": "text/x-python",
   "name": "python",
   "nbconvert_exporter": "python",
   "pygments_lexer": "ipython3",
   "version": "3.10.11"
  },
  "orig_nbformat": 4
 },
 "nbformat": 4,
 "nbformat_minor": 2
}
