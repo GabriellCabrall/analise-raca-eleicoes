{
 "cells": [
  {
   "cell_type": "code",
   "execution_count": 1,
   "metadata": {},
   "outputs": [
    {
     "ename": "FileNotFoundError",
     "evalue": "[Errno 2] No such file or directory: 'relatorioMA.csv'",
     "output_type": "error",
     "traceback": [
      "\u001b[1;31m---------------------------------------------------------------------------\u001b[0m",
      "\u001b[1;31mFileNotFoundError\u001b[0m                         Traceback (most recent call last)",
      "Cell \u001b[1;32mIn[1], line 4\u001b[0m\n\u001b[0;32m      1\u001b[0m \u001b[39mimport\u001b[39;00m \u001b[39mpandas\u001b[39;00m \u001b[39mas\u001b[39;00m \u001b[39mpd\u001b[39;00m\n\u001b[0;32m      2\u001b[0m \u001b[39mimport\u001b[39;00m \u001b[39mplotly\u001b[39;00m\u001b[39m.\u001b[39;00m\u001b[39mexpress\u001b[39;00m \u001b[39mas\u001b[39;00m \u001b[39mpx\u001b[39;00m\n\u001b[1;32m----> 4\u001b[0m tabela \u001b[39m=\u001b[39m pd\u001b[39m.\u001b[39;49mread_csv(\u001b[39m'\u001b[39;49m\u001b[39mrelatorioMA.csv\u001b[39;49m\u001b[39m'\u001b[39;49m, sep\u001b[39m=\u001b[39;49m\u001b[39m'\u001b[39;49m\u001b[39m;\u001b[39;49m\u001b[39m'\u001b[39;49m)\n\u001b[0;32m      5\u001b[0m tabela\u001b[39m.\u001b[39mcolumns \u001b[39m=\u001b[39m tabela\u001b[39m.\u001b[39mcolumns\u001b[39m.\u001b[39mstr\u001b[39m.\u001b[39mreplace(\u001b[39m'\u001b[39m\u001b[39m\"\u001b[39m\u001b[39m'\u001b[39m, \u001b[39m'\u001b[39m\u001b[39m'\u001b[39m)\n\u001b[0;32m      6\u001b[0m tabela[\u001b[39m\"\u001b[39m\u001b[39mCódigo Classificador\u001b[39m\u001b[39m\"\u001b[39m] \u001b[39m=\u001b[39m tabela[\u001b[39m\"\u001b[39m\u001b[39mCódigo Classificador\u001b[39m\u001b[39m\"\u001b[39m]\u001b[39m.\u001b[39mstr\u001b[39m.\u001b[39mreplace(\u001b[39m'\u001b[39m\u001b[39m\"\u001b[39m\u001b[39m'\u001b[39m, \u001b[39m'\u001b[39m\u001b[39m'\u001b[39m)\n",
      "File \u001b[1;32m~\\AppData\\Local\\Packages\\PythonSoftwareFoundation.Python.3.10_qbz5n2kfra8p0\\LocalCache\\local-packages\\Python310\\site-packages\\pandas\\util\\_decorators.py:211\u001b[0m, in \u001b[0;36mdeprecate_kwarg.<locals>._deprecate_kwarg.<locals>.wrapper\u001b[1;34m(*args, **kwargs)\u001b[0m\n\u001b[0;32m    209\u001b[0m     \u001b[39melse\u001b[39;00m:\n\u001b[0;32m    210\u001b[0m         kwargs[new_arg_name] \u001b[39m=\u001b[39m new_arg_value\n\u001b[1;32m--> 211\u001b[0m \u001b[39mreturn\u001b[39;00m func(\u001b[39m*\u001b[39margs, \u001b[39m*\u001b[39m\u001b[39m*\u001b[39mkwargs)\n",
      "File \u001b[1;32m~\\AppData\\Local\\Packages\\PythonSoftwareFoundation.Python.3.10_qbz5n2kfra8p0\\LocalCache\\local-packages\\Python310\\site-packages\\pandas\\util\\_decorators.py:331\u001b[0m, in \u001b[0;36mdeprecate_nonkeyword_arguments.<locals>.decorate.<locals>.wrapper\u001b[1;34m(*args, **kwargs)\u001b[0m\n\u001b[0;32m    325\u001b[0m \u001b[39mif\u001b[39;00m \u001b[39mlen\u001b[39m(args) \u001b[39m>\u001b[39m num_allow_args:\n\u001b[0;32m    326\u001b[0m     warnings\u001b[39m.\u001b[39mwarn(\n\u001b[0;32m    327\u001b[0m         msg\u001b[39m.\u001b[39mformat(arguments\u001b[39m=\u001b[39m_format_argument_list(allow_args)),\n\u001b[0;32m    328\u001b[0m         \u001b[39mFutureWarning\u001b[39;00m,\n\u001b[0;32m    329\u001b[0m         stacklevel\u001b[39m=\u001b[39mfind_stack_level(),\n\u001b[0;32m    330\u001b[0m     )\n\u001b[1;32m--> 331\u001b[0m \u001b[39mreturn\u001b[39;00m func(\u001b[39m*\u001b[39margs, \u001b[39m*\u001b[39m\u001b[39m*\u001b[39mkwargs)\n",
      "File \u001b[1;32m~\\AppData\\Local\\Packages\\PythonSoftwareFoundation.Python.3.10_qbz5n2kfra8p0\\LocalCache\\local-packages\\Python310\\site-packages\\pandas\\io\\parsers\\readers.py:950\u001b[0m, in \u001b[0;36mread_csv\u001b[1;34m(filepath_or_buffer, sep, delimiter, header, names, index_col, usecols, squeeze, prefix, mangle_dupe_cols, dtype, engine, converters, true_values, false_values, skipinitialspace, skiprows, skipfooter, nrows, na_values, keep_default_na, na_filter, verbose, skip_blank_lines, parse_dates, infer_datetime_format, keep_date_col, date_parser, dayfirst, cache_dates, iterator, chunksize, compression, thousands, decimal, lineterminator, quotechar, quoting, doublequote, escapechar, comment, encoding, encoding_errors, dialect, error_bad_lines, warn_bad_lines, on_bad_lines, delim_whitespace, low_memory, memory_map, float_precision, storage_options)\u001b[0m\n\u001b[0;32m    935\u001b[0m kwds_defaults \u001b[39m=\u001b[39m _refine_defaults_read(\n\u001b[0;32m    936\u001b[0m     dialect,\n\u001b[0;32m    937\u001b[0m     delimiter,\n\u001b[1;32m   (...)\u001b[0m\n\u001b[0;32m    946\u001b[0m     defaults\u001b[39m=\u001b[39m{\u001b[39m\"\u001b[39m\u001b[39mdelimiter\u001b[39m\u001b[39m\"\u001b[39m: \u001b[39m\"\u001b[39m\u001b[39m,\u001b[39m\u001b[39m\"\u001b[39m},\n\u001b[0;32m    947\u001b[0m )\n\u001b[0;32m    948\u001b[0m kwds\u001b[39m.\u001b[39mupdate(kwds_defaults)\n\u001b[1;32m--> 950\u001b[0m \u001b[39mreturn\u001b[39;00m _read(filepath_or_buffer, kwds)\n",
      "File \u001b[1;32m~\\AppData\\Local\\Packages\\PythonSoftwareFoundation.Python.3.10_qbz5n2kfra8p0\\LocalCache\\local-packages\\Python310\\site-packages\\pandas\\io\\parsers\\readers.py:605\u001b[0m, in \u001b[0;36m_read\u001b[1;34m(filepath_or_buffer, kwds)\u001b[0m\n\u001b[0;32m    602\u001b[0m _validate_names(kwds\u001b[39m.\u001b[39mget(\u001b[39m\"\u001b[39m\u001b[39mnames\u001b[39m\u001b[39m\"\u001b[39m, \u001b[39mNone\u001b[39;00m))\n\u001b[0;32m    604\u001b[0m \u001b[39m# Create the parser.\u001b[39;00m\n\u001b[1;32m--> 605\u001b[0m parser \u001b[39m=\u001b[39m TextFileReader(filepath_or_buffer, \u001b[39m*\u001b[39m\u001b[39m*\u001b[39mkwds)\n\u001b[0;32m    607\u001b[0m \u001b[39mif\u001b[39;00m chunksize \u001b[39mor\u001b[39;00m iterator:\n\u001b[0;32m    608\u001b[0m     \u001b[39mreturn\u001b[39;00m parser\n",
      "File \u001b[1;32m~\\AppData\\Local\\Packages\\PythonSoftwareFoundation.Python.3.10_qbz5n2kfra8p0\\LocalCache\\local-packages\\Python310\\site-packages\\pandas\\io\\parsers\\readers.py:1442\u001b[0m, in \u001b[0;36mTextFileReader.__init__\u001b[1;34m(self, f, engine, **kwds)\u001b[0m\n\u001b[0;32m   1439\u001b[0m     \u001b[39mself\u001b[39m\u001b[39m.\u001b[39moptions[\u001b[39m\"\u001b[39m\u001b[39mhas_index_names\u001b[39m\u001b[39m\"\u001b[39m] \u001b[39m=\u001b[39m kwds[\u001b[39m\"\u001b[39m\u001b[39mhas_index_names\u001b[39m\u001b[39m\"\u001b[39m]\n\u001b[0;32m   1441\u001b[0m \u001b[39mself\u001b[39m\u001b[39m.\u001b[39mhandles: IOHandles \u001b[39m|\u001b[39m \u001b[39mNone\u001b[39;00m \u001b[39m=\u001b[39m \u001b[39mNone\u001b[39;00m\n\u001b[1;32m-> 1442\u001b[0m \u001b[39mself\u001b[39m\u001b[39m.\u001b[39m_engine \u001b[39m=\u001b[39m \u001b[39mself\u001b[39;49m\u001b[39m.\u001b[39;49m_make_engine(f, \u001b[39mself\u001b[39;49m\u001b[39m.\u001b[39;49mengine)\n",
      "File \u001b[1;32m~\\AppData\\Local\\Packages\\PythonSoftwareFoundation.Python.3.10_qbz5n2kfra8p0\\LocalCache\\local-packages\\Python310\\site-packages\\pandas\\io\\parsers\\readers.py:1735\u001b[0m, in \u001b[0;36mTextFileReader._make_engine\u001b[1;34m(self, f, engine)\u001b[0m\n\u001b[0;32m   1733\u001b[0m     \u001b[39mif\u001b[39;00m \u001b[39m\"\u001b[39m\u001b[39mb\u001b[39m\u001b[39m\"\u001b[39m \u001b[39mnot\u001b[39;00m \u001b[39min\u001b[39;00m mode:\n\u001b[0;32m   1734\u001b[0m         mode \u001b[39m+\u001b[39m\u001b[39m=\u001b[39m \u001b[39m\"\u001b[39m\u001b[39mb\u001b[39m\u001b[39m\"\u001b[39m\n\u001b[1;32m-> 1735\u001b[0m \u001b[39mself\u001b[39m\u001b[39m.\u001b[39mhandles \u001b[39m=\u001b[39m get_handle(\n\u001b[0;32m   1736\u001b[0m     f,\n\u001b[0;32m   1737\u001b[0m     mode,\n\u001b[0;32m   1738\u001b[0m     encoding\u001b[39m=\u001b[39;49m\u001b[39mself\u001b[39;49m\u001b[39m.\u001b[39;49moptions\u001b[39m.\u001b[39;49mget(\u001b[39m\"\u001b[39;49m\u001b[39mencoding\u001b[39;49m\u001b[39m\"\u001b[39;49m, \u001b[39mNone\u001b[39;49;00m),\n\u001b[0;32m   1739\u001b[0m     compression\u001b[39m=\u001b[39;49m\u001b[39mself\u001b[39;49m\u001b[39m.\u001b[39;49moptions\u001b[39m.\u001b[39;49mget(\u001b[39m\"\u001b[39;49m\u001b[39mcompression\u001b[39;49m\u001b[39m\"\u001b[39;49m, \u001b[39mNone\u001b[39;49;00m),\n\u001b[0;32m   1740\u001b[0m     memory_map\u001b[39m=\u001b[39;49m\u001b[39mself\u001b[39;49m\u001b[39m.\u001b[39;49moptions\u001b[39m.\u001b[39;49mget(\u001b[39m\"\u001b[39;49m\u001b[39mmemory_map\u001b[39;49m\u001b[39m\"\u001b[39;49m, \u001b[39mFalse\u001b[39;49;00m),\n\u001b[0;32m   1741\u001b[0m     is_text\u001b[39m=\u001b[39;49mis_text,\n\u001b[0;32m   1742\u001b[0m     errors\u001b[39m=\u001b[39;49m\u001b[39mself\u001b[39;49m\u001b[39m.\u001b[39;49moptions\u001b[39m.\u001b[39;49mget(\u001b[39m\"\u001b[39;49m\u001b[39mencoding_errors\u001b[39;49m\u001b[39m\"\u001b[39;49m, \u001b[39m\"\u001b[39;49m\u001b[39mstrict\u001b[39;49m\u001b[39m\"\u001b[39;49m),\n\u001b[0;32m   1743\u001b[0m     storage_options\u001b[39m=\u001b[39;49m\u001b[39mself\u001b[39;49m\u001b[39m.\u001b[39;49moptions\u001b[39m.\u001b[39;49mget(\u001b[39m\"\u001b[39;49m\u001b[39mstorage_options\u001b[39;49m\u001b[39m\"\u001b[39;49m, \u001b[39mNone\u001b[39;49;00m),\n\u001b[0;32m   1744\u001b[0m )\n\u001b[0;32m   1745\u001b[0m \u001b[39massert\u001b[39;00m \u001b[39mself\u001b[39m\u001b[39m.\u001b[39mhandles \u001b[39mis\u001b[39;00m \u001b[39mnot\u001b[39;00m \u001b[39mNone\u001b[39;00m\n\u001b[0;32m   1746\u001b[0m f \u001b[39m=\u001b[39m \u001b[39mself\u001b[39m\u001b[39m.\u001b[39mhandles\u001b[39m.\u001b[39mhandle\n",
      "File \u001b[1;32m~\\AppData\\Local\\Packages\\PythonSoftwareFoundation.Python.3.10_qbz5n2kfra8p0\\LocalCache\\local-packages\\Python310\\site-packages\\pandas\\io\\common.py:856\u001b[0m, in \u001b[0;36mget_handle\u001b[1;34m(path_or_buf, mode, encoding, compression, memory_map, is_text, errors, storage_options)\u001b[0m\n\u001b[0;32m    851\u001b[0m \u001b[39melif\u001b[39;00m \u001b[39misinstance\u001b[39m(handle, \u001b[39mstr\u001b[39m):\n\u001b[0;32m    852\u001b[0m     \u001b[39m# Check whether the filename is to be opened in binary mode.\u001b[39;00m\n\u001b[0;32m    853\u001b[0m     \u001b[39m# Binary mode does not support 'encoding' and 'newline'.\u001b[39;00m\n\u001b[0;32m    854\u001b[0m     \u001b[39mif\u001b[39;00m ioargs\u001b[39m.\u001b[39mencoding \u001b[39mand\u001b[39;00m \u001b[39m\"\u001b[39m\u001b[39mb\u001b[39m\u001b[39m\"\u001b[39m \u001b[39mnot\u001b[39;00m \u001b[39min\u001b[39;00m ioargs\u001b[39m.\u001b[39mmode:\n\u001b[0;32m    855\u001b[0m         \u001b[39m# Encoding\u001b[39;00m\n\u001b[1;32m--> 856\u001b[0m         handle \u001b[39m=\u001b[39m \u001b[39mopen\u001b[39;49m(\n\u001b[0;32m    857\u001b[0m             handle,\n\u001b[0;32m    858\u001b[0m             ioargs\u001b[39m.\u001b[39;49mmode,\n\u001b[0;32m    859\u001b[0m             encoding\u001b[39m=\u001b[39;49mioargs\u001b[39m.\u001b[39;49mencoding,\n\u001b[0;32m    860\u001b[0m             errors\u001b[39m=\u001b[39;49merrors,\n\u001b[0;32m    861\u001b[0m             newline\u001b[39m=\u001b[39;49m\u001b[39m\"\u001b[39;49m\u001b[39m\"\u001b[39;49m,\n\u001b[0;32m    862\u001b[0m         )\n\u001b[0;32m    863\u001b[0m     \u001b[39melse\u001b[39;00m:\n\u001b[0;32m    864\u001b[0m         \u001b[39m# Binary mode\u001b[39;00m\n\u001b[0;32m    865\u001b[0m         handle \u001b[39m=\u001b[39m \u001b[39mopen\u001b[39m(handle, ioargs\u001b[39m.\u001b[39mmode)\n",
      "\u001b[1;31mFileNotFoundError\u001b[0m: [Errno 2] No such file or directory: 'relatorioMA.csv'"
     ]
    }
   ],
   "source": [
    "import pandas as pd\n",
    "import plotly.express as px\n",
    "\n",
    "tabela = pd.read_csv('relatorioMA.csv', sep=';')\n",
    "tabela.columns = tabela.columns.str.replace('\"', '')\n",
    "tabela[\"Código Classificador\"] = tabela[\"Código Classificador\"].str.replace('\"', '')\n",
    "tabela[\"Código Classificador\"] = tabela[\"Código Classificador\"].astype(int)\n",
    "tabela = tabela.rename(columns={\" Código da Cor\": \"Código da Cor\"})\n",
    "# print(tabela.columns)\n",
    "tabela[\"Código da Cor\"] = tabela[\"Código da Cor\"].str.replace('\"', '')\n",
    "tabela[\"Código da Cor\"] = tabela[\"Código da Cor\"].astype(int)\n",
    "print(tabela['Código Classificador'].unique())\n",
    "# display(tabela)\n",
    "# df_9 = tabela.loc[tabela['Código Classificador'] == 21]\n",
    "# display(df_9)\n",
    "# print(tabela.info)\n",
    "# 12, 21, 25"
   ]
  },
  {
   "cell_type": "code",
   "execution_count": 9,
   "metadata": {},
   "outputs": [],
   "source": [
    "tabela_12 = tabela[tabela['Código Classificador'] == 12]\n",
    "tabela_21 = tabela[tabela['Código Classificador'] == 21]\n",
    "tabela_25 = tabela[tabela['Código Classificador'] == 25]\n",
    "\n",
    "incidencia_cor_12 = tabela_12[' Cor'].value_counts(normalize=True) * 100\n",
    "incidencia_cor_12 = pd.DataFrame(incidencia_cor_12)\n",
    "df_incidencia_cor_12 = incidencia_cor_12.reset_index()\n",
    "df_incidencia_cor_12.columns = ['Cor', 'Incidência']\n",
    "df_incidencia_cor_12['Incidência'] = df_incidencia_cor_12['Incidência']\n",
    "# display(df_incidencia_cor_14)\n",
    "# print(incidencia_cor_17)\n",
    "\n",
    "incidencia_cor_21 = tabela_21[' Cor'].value_counts(normalize=True) * 100\n",
    "incidencia_cor_21 = pd.DataFrame(incidencia_cor_21)\n",
    "df_incidencia_cor_21 = incidencia_cor_21.reset_index()\n",
    "df_incidencia_cor_21.columns = ['Cor', 'Incidência']\n",
    "df_incidencia_cor_21['Incidência'] = df_incidencia_cor_21['Incidência']\n",
    "# display(df_incidencia_cor_20)\n",
    "# print(incidencia_cor_23)\n",
    "\n",
    "incidencia_cor_25 = tabela_25[' Cor'].value_counts(normalize=True) * 100\n",
    "incidencia_cor_25 = pd.DataFrame(incidencia_cor_25)\n",
    "df_incidencia_cor_25 = incidencia_cor_25.reset_index()\n",
    "df_incidencia_cor_25.columns = ['Cor', 'Incidência']\n",
    "df_incidencia_cor_25['Incidência'] = df_incidencia_cor_25['Incidência']\n",
    "# display(df_incidencia_cor_22)\n",
    "# print(incidencia_cor_26)"
   ]
  },
  {
   "cell_type": "code",
   "execution_count": 10,
   "metadata": {},
   "outputs": [],
   "source": [
    "df_concatenado = pd.concat([incidencia_cor_12, incidencia_cor_21, incidencia_cor_25])\n",
    "# separar a coluna incidencia_cor em duas colunas\n",
    "df_concatenado = df_concatenado.reset_index().rename(columns={'index': 'cor'})\n",
    "df_concatenado.columns = ['Cor', 'Incidência']\n",
    "\n",
    "# display(df_concatenado)\n",
    "\n",
    "# print(df_concatenado.columns)"
   ]
  },
  {
   "cell_type": "code",
   "execution_count": 11,
   "metadata": {},
   "outputs": [],
   "source": [
    "media_por_cor = df_concatenado.groupby('Cor')['Incidência'].mean()\n",
    "media_por_cor = media_por_cor.apply('{:.3f}%'.format)\n",
    "\n",
    "# print(media_por_cor)"
   ]
  },
  {
   "cell_type": "code",
   "execution_count": 12,
   "metadata": {},
   "outputs": [],
   "source": [
    "import openpyxl\n",
    "from openpyxl import load_workbook\n",
    "\n",
    "df_concatenados = pd.concat([tabela_12, tabela_21, tabela_25])\n",
    "df_concatenados[' Cor'] = df_concatenados[' Cor'].replace(' \"Branco / Blanco / White\"', 'Branco')\n",
    "df_concatenados[' Cor'] = df_concatenados[' Cor'].replace(' \"Amarelo / Amarillo / Yellow\"', 'Amarelo')\n",
    "df_concatenados[' Cor'] = df_concatenados[' Cor'].replace(' \"Pardo / “Moreno” / Brown\"', 'Pardo')\n",
    "df_concatenados[' Cor'] = df_concatenados[' Cor'].replace(' \"Preto / Negro / Black\"', 'Preto')\n",
    "\n",
    "valores_cor = df_concatenados[' Cor'].unique\n",
    "# print(valores_cor)\n",
    "\n",
    "nome_arquivo = 'dadosMA.xlsx'\n",
    "\n",
    "# df_concatenados.to_excel(nome_arquivo, sheet_name='Heteroclassificação', index=False)"
   ]
  },
  {
   "cell_type": "code",
   "execution_count": 13,
   "metadata": {},
   "outputs": [],
   "source": [
    "tabela_auto = pd.read_csv('MARANHAO.csv', sep=';')\n",
    "\n",
    "# book = load_workbook(nome_arquivo)\n",
    "\n",
    "# nome_planilha = 'Autodeclaração'\n",
    "\n",
    "# with pd.ExcelWriter(nome_arquivo, engine='openpyxl') as writer:\n",
    "#     writer.book = book\n",
    "#     tabela_auto.to_excel(writer, sheet_name=nome_planilha, index=False)"
   ]
  },
  {
   "cell_type": "code",
   "execution_count": 14,
   "metadata": {},
   "outputs": [
    {
     "name": "stderr",
     "output_type": "stream",
     "text": [
      "C:\\Users\\gabri\\AppData\\Local\\Temp\\ipykernel_22220\\976304818.py:50: FutureWarning: Setting the `book` attribute is not part of the public API, usage can give unexpected or corrupted results and will be removed in a future version\n",
      "  writer.book = book\n"
     ]
    }
   ],
   "source": [
    "tabela_20 = tabela_12.reset_index(drop=True)\n",
    "tabela_22 = tabela_21.reset_index(drop=True)\n",
    "tabela_27 = tabela_25.reset_index(drop=True)\n",
    "\n",
    "tabela_auto = tabela_auto.loc[tabela_auto['DS_CARGO'] == 'DEPUTADO FEDERAL']\n",
    "tabela_auto = tabela_auto.reset_index(drop=True)\n",
    "\n",
    "tabela_20[' SQ_CANDIDATO'] = tabela_20[' SQ_CANDIDATO'].str.replace('\"', '').str.strip().astype(float)\n",
    "tabela_20 = tabela_20.sort_values(' SQ_CANDIDATO', ascending=True)\n",
    "\n",
    "tabela_22[' SQ_CANDIDATO'] = tabela_22[' SQ_CANDIDATO'].str.replace('\"', '').str.strip().astype(float)\n",
    "tabela_22 = tabela_22.sort_values(' SQ_CANDIDATO', ascending=True)\n",
    "\n",
    "tabela_27[' SQ_CANDIDATO'] = tabela_27[' SQ_CANDIDATO'].str.replace('\"', '').str.strip().astype(float)\n",
    "tabela_27 = tabela_27.sort_values(' SQ_CANDIDATO', ascending=True)\n",
    "\n",
    "tabela_auto = tabela_auto.sort_values('SQ_CANDIDATO', ascending=True)\n",
    "\n",
    "tabela_20 = tabela_20.reset_index(drop=True)\n",
    "tabela_22 = tabela_22.reset_index(drop=True)\n",
    "tabela_27 = tabela_27.reset_index(drop=True)\n",
    "tabela_auto = tabela_auto.reset_index(drop=True)\n",
    "\n",
    "# Exibir o dataframe tabela_auto filtrado\n",
    "# display(tabela_auto)\n",
    "\n",
    "comparacao = pd.merge(tabela_20, tabela_22, left_index=True, right_index=True, suffixes=('_20', '_22'))\n",
    "comparacao = pd.merge(comparacao, tabela_27, left_index=True, right_index=True)\n",
    "comparacao = pd.concat([comparacao, tabela_auto], axis=1)\n",
    "\n",
    "comparacao['cor def'] = \"\"\n",
    "\n",
    "# print(comparacao.columns)\n",
    "\n",
    "for index, row in comparacao.iterrows():\n",
    "    if row[' Cor_20'] == row[' Cor_22'] == row[' Cor']:\n",
    "        comparacao.loc[index, 'cor def'] = row[' Cor']\n",
    "    else:\n",
    "        comparacao.loc[index, 'cor def'] = row['DS_COR_RACA']\n",
    "\n",
    "comparacao = comparacao.dropna(subset=['Código Classificador_20'])\n",
    "\n",
    "# display(comparacao)\n",
    "\n",
    "comparacao.to_excel(nome_arquivo, index=False)\n",
    "book = load_workbook(nome_arquivo)\n",
    "\n",
    "nome_planilha = 'Autodeclaração'\n",
    "with pd.ExcelWriter(nome_arquivo, engine='openpyxl') as writer:\n",
    "    writer.book = book\n",
    "    tabela_auto.to_excel(writer, sheet_name=nome_planilha, index=False)"
   ]
  }
 ],
 "metadata": {
  "kernelspec": {
   "display_name": "Python 3",
   "language": "python",
   "name": "python3"
  },
  "language_info": {
   "codemirror_mode": {
    "name": "ipython",
    "version": 3
   },
   "file_extension": ".py",
   "mimetype": "text/x-python",
   "name": "python",
   "nbconvert_exporter": "python",
   "pygments_lexer": "ipython3",
   "version": "3.10.11"
  },
  "orig_nbformat": 4
 },
 "nbformat": 4,
 "nbformat_minor": 2
}
