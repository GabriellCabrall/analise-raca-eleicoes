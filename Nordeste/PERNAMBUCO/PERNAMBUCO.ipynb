{
 "cells": [
  {
   "cell_type": "code",
   "execution_count": 1,
   "metadata": {},
   "outputs": [
    {
     "data": {
      "text/plain": [
       "0                            L�VIA DA PAZ LIRA\n",
       "1               ANTONIO BATISTA DE MOURA FILHO\n",
       "2                        MARIA FERNANDA BARROS\n",
       "3                  SERGIO HENRIQUE LINS BRITES\n",
       "4                       GLAUCIA NUNES DA SILVA\n",
       "                         ...                  \n",
       "1137                     LUIZ GONZAGA PATRIOTA\n",
       "1138           MARIA APARECIDA ABILIO DA SILVA\n",
       "1139    JOS� SEBASTI�O ALVES DE OLIVEIRA FILHO\n",
       "1140                       AGENALDO LESSA LE�O\n",
       "1141                   AELSON FERREIRA DA HORA\n",
       "Name: NM_CANDIDATO, Length: 1142, dtype: object"
      ]
     },
     "metadata": {},
     "output_type": "display_data"
    },
    {
     "name": "stdout",
     "output_type": "stream",
     "text": [
      "BRANCA            42.382%\n",
      "PARDA             40.630%\n",
      "PRETA             15.674%\n",
      "IND�GENA           0.701%\n",
      "AMARELA            0.350%\n",
      "N�O DIVULG�VEL     0.175%\n",
      "N�O INFORMADO      0.088%\n",
      "Name: DS_COR_RACA, dtype: object\n"
     ]
    }
   ],
   "source": [
    "import pandas as pd\n",
    "\n",
    "tabela = pd.read_csv('PERNAMBUCO.csv', sep=';')\n",
    "\n",
    "# display(tabela)\n",
    "display(tabela['NM_CANDIDATO'])\n",
    "\n",
    "incidencia = tabela['DS_COR_RACA'].value_counts(normalize=True)\n",
    "print(incidencia.apply(lambda x: f\"{(x*100):.3f}%\"))"
   ]
  }
 ],
 "metadata": {
  "kernelspec": {
   "display_name": "Python 3",
   "language": "python",
   "name": "python3"
  },
  "language_info": {
   "codemirror_mode": {
    "name": "ipython",
    "version": 3
   },
   "file_extension": ".py",
   "mimetype": "text/x-python",
   "name": "python",
   "nbconvert_exporter": "python",
   "pygments_lexer": "ipython3",
   "version": "3.10.11"
  },
  "orig_nbformat": 4
 },
 "nbformat": 4,
 "nbformat_minor": 2
}
