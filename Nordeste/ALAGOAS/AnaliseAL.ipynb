{
 "cells": [
  {
   "cell_type": "code",
   "execution_count": 93,
   "id": "48b8fce8",
   "metadata": {
    "scrolled": false
   },
   "outputs": [
    {
     "name": "stdout",
     "output_type": "stream",
     "text": [
      "[14 20 21 22 23 27]\n"
     ]
    }
   ],
   "source": [
    "import pandas as pd\n",
    "import plotly.express as px\n",
    "\n",
    "tabela = pd.read_csv('relatorioAL.csv', sep=';')\n",
    "tabela.columns = tabela.columns.str.replace('\"', '')\n",
    "tabela[\"Código Classificador\"] = tabela[\"Código Classificador\"].str.replace('\"', '')\n",
    "tabela[\"Código Classificador\"] = tabela[\"Código Classificador\"].astype(int)\n",
    "tabela = tabela.rename(columns={\" Código da Cor\": \"Código da Cor\"})\n",
    "# print(tabela.columns)\n",
    "tabela[\"Código da Cor\"] = tabela[\"Código da Cor\"].str.replace('\"', '')\n",
    "tabela[\"Código da Cor\"] = tabela[\"Código da Cor\"].astype(int)\n",
    "print(tabela['Código Classificador'].unique())\n",
    "# df_9 = tabela.loc[tabela['Código Classificador'] == 27]\n",
    "# display(df_9)\n",
    "# display(tabela)\n",
    "# print(tabela.info)\n",
    "# 20, 22, 27"
   ]
  },
  {
   "cell_type": "code",
   "execution_count": 94,
   "id": "75d60338",
   "metadata": {},
   "outputs": [],
   "source": [
    "tabela_20 = tabela[tabela['Código Classificador'] == 20]\n",
    "tabela_22 = tabela[tabela['Código Classificador'] == 22]\n",
    "tabela_27 = tabela[tabela['Código Classificador'] == 27]\n",
    "\n",
    "incidencia_cor_20 = tabela_20[' Cor'].value_counts(normalize=True) * 100\n",
    "incidencia_cor_20 = pd.DataFrame(incidencia_cor_20)\n",
    "df_incidencia_cor_20 = incidencia_cor_20.reset_index()\n",
    "df_incidencia_cor_20.columns = ['Cor', 'Incidência']\n",
    "df_incidencia_cor_20['Incidência'] = df_incidencia_cor_20['Incidência']\n",
    "# display(df_incidencia_cor_20)\n",
    "# print(incidencia_cor_20)\n",
    "\n",
    "incidencia_cor_22 = tabela_22[' Cor'].value_counts(normalize=True) * 100\n",
    "incidencia_cor_22 = pd.DataFrame(incidencia_cor_22)\n",
    "df_incidencia_cor_22 = incidencia_cor_22.reset_index()\n",
    "df_incidencia_cor_22.columns = ['Cor', 'Incidência']\n",
    "df_incidencia_cor_22['Incidência'] = df_incidencia_cor_22['Incidência']\n",
    "# display(df_incidencia_cor_22)\n",
    "# print(incidencia_cor_22)\n",
    "\n",
    "incidencia_cor_27 = tabela_27[' Cor'].value_counts(normalize=True) * 100\n",
    "incidencia_cor_27 = pd.DataFrame(incidencia_cor_27)\n",
    "df_incidencia_cor_27 = incidencia_cor_27.reset_index()\n",
    "df_incidencia_cor_27.columns = ['Cor', 'Incidência']\n",
    "df_incidencia_cor_27['Incidência'] = df_incidencia_cor_27['Incidência']\n",
    "# display(df_incidencia_cor_27)\n",
    "# print(incidencia_cor_27)\n",
    "\n"
   ]
  },
  {
   "cell_type": "code",
   "execution_count": 95,
   "id": "794d8c5c",
   "metadata": {},
   "outputs": [
    {
     "name": "stdout",
     "output_type": "stream",
     "text": [
      "Index(['Cor', 'Incidência'], dtype='object')\n"
     ]
    }
   ],
   "source": [
    "df_concatenado = pd.concat([incidencia_cor_20, incidencia_cor_22, incidencia_cor_27])\n",
    "# separar a coluna incidencia_cor em duas colunas\n",
    "df_concatenado = df_concatenado.reset_index().rename(columns={'index': 'cor'})\n",
    "df_concatenado.columns = ['Cor', 'Incidência']\n",
    "\n",
    "# display(df_concatenado.info())\n",
    "\n",
    "print(df_concatenado.columns)\n",
    "\n",
    "\n"
   ]
  },
  {
   "cell_type": "code",
   "execution_count": 96,
   "id": "96f54598",
   "metadata": {},
   "outputs": [
    {
     "name": "stdout",
     "output_type": "stream",
     "text": [
      "Cor\n",
      " \"Amarelo / Amarillo / Yellow\"     1.538%\n",
      " \"Branco / Blanco / White\"        77.094%\n",
      " \"Pardo / “Moreno” / Brown\"       16.752%\n",
      " \"Preto / Negro / Black\"           5.128%\n",
      "Name: Incidência, dtype: object\n"
     ]
    }
   ],
   "source": [
    "media_por_cor = df_concatenado.groupby('Cor')['Incidência'].mean()\n",
    "media_por_cor = media_por_cor.apply('{:.3f}%'.format)\n",
    "\n",
    "print(media_por_cor)\n"
   ]
  },
  {
   "cell_type": "code",
   "execution_count": 97,
   "id": "cd0db2d4",
   "metadata": {},
   "outputs": [
    {
     "name": "stdout",
     "output_type": "stream",
     "text": [
      "<bound method Series.unique of 195       \"Branco / Blanco / White\"\n",
      "196       \"Branco / Blanco / White\"\n",
      "197       \"Branco / Blanco / White\"\n",
      "198       \"Branco / Blanco / White\"\n",
      "199      \"Pardo / “Moreno” / Brown\"\n",
      "                   ...             \n",
      "1165      \"Branco / Blanco / White\"\n",
      "1166      \"Branco / Blanco / White\"\n",
      "1167     \"Pardo / “Moreno” / Brown\"\n",
      "1168      \"Branco / Blanco / White\"\n",
      "1169      \"Branco / Blanco / White\"\n",
      "Name:  Cor, Length: 585, dtype: object>\n"
     ]
    }
   ],
   "source": [
    "import openpyxl\n",
    "from openpyxl import load_workbook\n",
    "\n",
    "df_concatenados = pd.concat([tabela_20, tabela_22, tabela_27])\n",
    "df_concatenados[' Cor'] = df_concatenados[' Cor'].replace(' \" Branco / Blanco / White\"', 'Branco')\n",
    "df_concatenados[' Cor'] = df_concatenados[' Cor'].replace(' \" Amarelo / Amarillo / Yellow\"', 'Amarelo')\n",
    "df_concatenados[' Cor'] = df_concatenados[' Cor'].replace(' \" Pardo / “Moreno” / Brown\"', 'Pardo')\n",
    "df_concatenados[' Cor'] = df_concatenados[' Cor'].replace(' \" Preto / Negro / Black\"', 'Preto')\n",
    "\n",
    "valores_cor = df_concatenados[' Cor'].unique\n",
    "print(valores_cor)\n",
    "\n",
    "nome_arquivo = 'dadosAL.xlsx'\n",
    "\n",
    "# df_concatenados.to_excel(nome_arquivo, index=False)"
   ]
  },
  {
   "cell_type": "code",
   "execution_count": 98,
   "id": "57c4a805",
   "metadata": {},
   "outputs": [],
   "source": [
    "tabela_auto = pd.read_csv('ALAGOAS.csv', sep=';')\n",
    "\n",
    "# display(tabela_20)\n",
    "\n",
    "# with pd.ExcelWriter(nome_arquivo, engine='openpyxl') as writer:\n",
    "#     writer.book = book\n",
    "#     tabela_auto.to_excel(writer, sheet_name=nome_planilha, index=False)"
   ]
  },
  {
   "cell_type": "code",
   "execution_count": 99,
   "metadata": {},
   "outputs": [
    {
     "name": "stderr",
     "output_type": "stream",
     "text": [
      "C:\\Users\\gabri\\AppData\\Local\\Temp\\ipykernel_6084\\2976409676.py:50: FutureWarning: Setting the `book` attribute is not part of the public API, usage can give unexpected or corrupted results and will be removed in a future version\n",
      "  writer.book = book\n"
     ]
    }
   ],
   "source": [
    "tabela_20 = tabela_20.reset_index(drop=True)\n",
    "tabela_22 = tabela_22.reset_index(drop=True)\n",
    "tabela_27 = tabela_27.reset_index(drop=True)\n",
    "\n",
    "tabela_auto = tabela_auto.loc[tabela_auto['DS_CARGO'] == 'DEPUTADO FEDERAL']\n",
    "tabela_auto = tabela_auto.reset_index(drop=True)\n",
    "\n",
    "tabela_20[' SQ_CANDIDATO'] = tabela_20[' SQ_CANDIDATO'].str.replace('\"', '').str.strip().astype(float)\n",
    "tabela_20 = tabela_20.sort_values(' SQ_CANDIDATO', ascending=True)\n",
    "\n",
    "tabela_22[' SQ_CANDIDATO'] = tabela_22[' SQ_CANDIDATO'].str.replace('\"', '').str.strip().astype(float)\n",
    "tabela_22 = tabela_22.sort_values(' SQ_CANDIDATO', ascending=True)\n",
    "\n",
    "tabela_27[' SQ_CANDIDATO'] = tabela_27[' SQ_CANDIDATO'].str.replace('\"', '').str.strip().astype(float)\n",
    "tabela_27 = tabela_27.sort_values(' SQ_CANDIDATO', ascending=True)\n",
    "\n",
    "tabela_auto = tabela_auto.sort_values('SQ_CANDIDATO', ascending=True)\n",
    "\n",
    "tabela_20 = tabela_20.reset_index(drop=True)\n",
    "tabela_22 = tabela_22.reset_index(drop=True)\n",
    "tabela_27 = tabela_27.reset_index(drop=True)\n",
    "tabela_auto = tabela_auto.reset_index(drop=True)\n",
    "\n",
    "# Exibir o dataframe tabela_auto filtrado\n",
    "# display(tabela_auto)\n",
    "\n",
    "comparacao = pd.merge(tabela_20, tabela_22, left_index=True, right_index=True, suffixes=('_20', '_22'))\n",
    "comparacao = pd.merge(comparacao, tabela_27, left_index=True, right_index=True)\n",
    "comparacao = pd.concat([comparacao, tabela_auto], axis=1)\n",
    "\n",
    "comparacao['cor def'] = \"\"\n",
    "\n",
    "# print(comparacao.columns)\n",
    "\n",
    "for index, row in comparacao.iterrows():\n",
    "    if row[' Cor_20'] == row[' Cor_22'] == row[' Cor']:\n",
    "        comparacao.loc[index, 'cor def'] = row[' Cor']\n",
    "    else:\n",
    "        comparacao.loc[index, 'cor def'] = row['DS_COR_RACA']\n",
    "\n",
    "comparacao = comparacao.dropna(subset=['Código Classificador_20'])\n",
    "\n",
    "# display(comparacao)\n",
    "\n",
    "comparacao.to_excel(nome_arquivo, index=False)\n",
    "book = load_workbook(nome_arquivo)\n",
    "\n",
    "nome_planilha = 'Autodeclaração'\n",
    "with pd.ExcelWriter(nome_arquivo, engine='openpyxl') as writer:\n",
    "    writer.book = book\n",
    "    tabela_auto.to_excel(writer, sheet_name=nome_planilha, index=False)"
   ]
  }
 ],
 "metadata": {
  "celltoolbar": "Raw Cell Format",
  "kernelspec": {
   "display_name": "Python 3 (ipykernel)",
   "language": "python",
   "name": "python3"
  },
  "language_info": {
   "codemirror_mode": {
    "name": "ipython",
    "version": 3
   },
   "file_extension": ".py",
   "mimetype": "text/x-python",
   "name": "python",
   "nbconvert_exporter": "python",
   "pygments_lexer": "ipython3",
   "version": "3.10.11"
  }
 },
 "nbformat": 4,
 "nbformat_minor": 5
}
